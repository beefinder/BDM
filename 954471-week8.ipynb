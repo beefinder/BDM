{
 "cells": [
  {
   "cell_type": "code",
   "execution_count": 1,
   "id": "e0c50e13",
   "metadata": {
    "_cell_guid": "b1076dfc-b9ad-4769-8c92-a6c4dae69d19",
    "_uuid": "8f2839f25d086af736a60e9eeb907d3b93b6e0e5",
    "execution": {
     "iopub.execute_input": "2021-08-31T13:48:52.871502Z",
     "iopub.status.busy": "2021-08-31T13:48:52.870194Z",
     "iopub.status.idle": "2021-08-31T13:48:52.891079Z",
     "shell.execute_reply": "2021-08-31T13:48:52.891966Z"
    },
    "papermill": {
     "duration": 0.063032,
     "end_time": "2021-08-31T13:48:52.892327",
     "exception": false,
     "start_time": "2021-08-31T13:48:52.829295",
     "status": "completed"
    },
    "tags": []
   },
   "outputs": [
    {
     "name": "stdout",
     "output_type": "stream",
     "text": [
      "/kaggle/input/telecom-churn/telecom_churn.csv\n"
     ]
    }
   ],
   "source": [
    "# This Python 3 environment comes with many helpful analytics libraries installed\n",
    "# It is defined by the kaggle/python Docker image: https://github.com/kaggle/docker-python\n",
    "# For example, here's several helpful packages to load\n",
    "\n",
    "import numpy as np # linear algebra\n",
    "import pandas as pd # data processing, CSV file I/O (e.g. pd.read_csv)\n",
    "\n",
    "# Input data files are available in the read-only \"../input/\" directory\n",
    "# For example, running this (by clicking run or pressing Shift+Enter) will list all files under the input directory\n",
    "\n",
    "import os\n",
    "for dirname, _, filenames in os.walk('/kaggle/input'):\n",
    "    for filename in filenames:\n",
    "        print(os.path.join(dirname, filename))\n",
    "\n",
    "# You can write up to 20GB to the current directory (/kaggle/working/) that gets preserved as output when you create a version using \"Save & Run All\" \n",
    "# You can also write temporary files to /kaggle/temp/, but they won't be saved outside of the current session"
   ]
  },
  {
   "cell_type": "markdown",
   "id": "454ef6d7",
   "metadata": {
    "papermill": {
     "duration": 0.035675,
     "end_time": "2021-08-31T13:48:52.965447",
     "exception": false,
     "start_time": "2021-08-31T13:48:52.929772",
     "status": "completed"
    },
    "tags": []
   },
   "source": [
    "# **Telecom-churn**"
   ]
  },
  {
   "cell_type": "markdown",
   "id": "fc75cf59",
   "metadata": {
    "papermill": {
     "duration": 0.048885,
     "end_time": "2021-08-31T13:48:53.062542",
     "exception": false,
     "start_time": "2021-08-31T13:48:53.013657",
     "status": "completed"
    },
    "tags": []
   },
   "source": [
    "**Cleansing**"
   ]
  },
  {
   "cell_type": "code",
   "execution_count": 2,
   "id": "51019a53",
   "metadata": {
    "execution": {
     "iopub.execute_input": "2021-08-31T13:48:53.149062Z",
     "iopub.status.busy": "2021-08-31T13:48:53.148258Z",
     "iopub.status.idle": "2021-08-31T13:48:53.257782Z",
     "shell.execute_reply": "2021-08-31T13:48:53.257015Z"
    },
    "papermill": {
     "duration": 0.151301,
     "end_time": "2021-08-31T13:48:53.257931",
     "exception": false,
     "start_time": "2021-08-31T13:48:53.106630",
     "status": "completed"
    },
    "tags": []
   },
   "outputs": [],
   "source": [
    "df = pd.read_csv('../input/telecom-churn/telecom_churn.csv')"
   ]
  },
  {
   "cell_type": "code",
   "execution_count": 3,
   "id": "044bbc36",
   "metadata": {
    "execution": {
     "iopub.execute_input": "2021-08-31T13:48:53.340023Z",
     "iopub.status.busy": "2021-08-31T13:48:53.339197Z",
     "iopub.status.idle": "2021-08-31T13:48:53.343275Z",
     "shell.execute_reply": "2021-08-31T13:48:53.343753Z"
    },
    "papermill": {
     "duration": 0.048613,
     "end_time": "2021-08-31T13:48:53.343928",
     "exception": false,
     "start_time": "2021-08-31T13:48:53.295315",
     "status": "completed"
    },
    "tags": []
   },
   "outputs": [
    {
     "data": {
      "text/plain": [
       "Index(['Churn', 'AccountWeeks', 'ContractRenewal', 'DataPlan', 'DataUsage',\n",
       "       'CustServCalls', 'DayMins', 'DayCalls', 'MonthlyCharge', 'OverageFee',\n",
       "       'RoamMins'],\n",
       "      dtype='object')"
      ]
     },
     "execution_count": 3,
     "metadata": {},
     "output_type": "execute_result"
    }
   ],
   "source": [
    "df.columns"
   ]
  },
  {
   "cell_type": "code",
   "execution_count": 4,
   "id": "650fca61",
   "metadata": {
    "execution": {
     "iopub.execute_input": "2021-08-31T13:48:53.423961Z",
     "iopub.status.busy": "2021-08-31T13:48:53.423245Z",
     "iopub.status.idle": "2021-08-31T13:48:53.438851Z",
     "shell.execute_reply": "2021-08-31T13:48:53.438295Z"
    },
    "papermill": {
     "duration": 0.057867,
     "end_time": "2021-08-31T13:48:53.438993",
     "exception": false,
     "start_time": "2021-08-31T13:48:53.381126",
     "status": "completed"
    },
    "tags": []
   },
   "outputs": [
    {
     "data": {
      "text/plain": [
       "Churn              False\n",
       "AccountWeeks       False\n",
       "ContractRenewal    False\n",
       "DataPlan           False\n",
       "DataUsage          False\n",
       "CustServCalls      False\n",
       "DayMins            False\n",
       "DayCalls           False\n",
       "MonthlyCharge      False\n",
       "OverageFee         False\n",
       "RoamMins           False\n",
       "dtype: bool"
      ]
     },
     "execution_count": 4,
     "metadata": {},
     "output_type": "execute_result"
    }
   ],
   "source": [
    "df.isnull().any()"
   ]
  },
  {
   "cell_type": "markdown",
   "id": "93ce1001",
   "metadata": {
    "papermill": {
     "duration": 0.036687,
     "end_time": "2021-08-31T13:48:53.512907",
     "exception": false,
     "start_time": "2021-08-31T13:48:53.476220",
     "status": "completed"
    },
    "tags": []
   },
   "source": [
    "**Preproessing**"
   ]
  },
  {
   "cell_type": "code",
   "execution_count": 5,
   "id": "3f2bb834",
   "metadata": {
    "execution": {
     "iopub.execute_input": "2021-08-31T13:48:53.595986Z",
     "iopub.status.busy": "2021-08-31T13:48:53.595286Z",
     "iopub.status.idle": "2021-08-31T13:48:53.645216Z",
     "shell.execute_reply": "2021-08-31T13:48:53.644660Z"
    },
    "papermill": {
     "duration": 0.095532,
     "end_time": "2021-08-31T13:48:53.645359",
     "exception": false,
     "start_time": "2021-08-31T13:48:53.549827",
     "status": "completed"
    },
    "tags": []
   },
   "outputs": [
    {
     "data": {
      "text/html": [
       "<div>\n",
       "<style scoped>\n",
       "    .dataframe tbody tr th:only-of-type {\n",
       "        vertical-align: middle;\n",
       "    }\n",
       "\n",
       "    .dataframe tbody tr th {\n",
       "        vertical-align: top;\n",
       "    }\n",
       "\n",
       "    .dataframe thead th {\n",
       "        text-align: right;\n",
       "    }\n",
       "</style>\n",
       "<table border=\"1\" class=\"dataframe\">\n",
       "  <thead>\n",
       "    <tr style=\"text-align: right;\">\n",
       "      <th></th>\n",
       "      <th>Churn</th>\n",
       "      <th>AccountWeeks</th>\n",
       "      <th>ContractRenewal</th>\n",
       "      <th>DataPlan</th>\n",
       "      <th>DataUsage</th>\n",
       "      <th>CustServCalls</th>\n",
       "      <th>DayMins</th>\n",
       "      <th>DayCalls</th>\n",
       "      <th>MonthlyCharge</th>\n",
       "      <th>OverageFee</th>\n",
       "      <th>RoamMins</th>\n",
       "    </tr>\n",
       "  </thead>\n",
       "  <tbody>\n",
       "    <tr>\n",
       "      <th>count</th>\n",
       "      <td>3333.000000</td>\n",
       "      <td>3333.000000</td>\n",
       "      <td>3333.000000</td>\n",
       "      <td>3333.000000</td>\n",
       "      <td>3333.000000</td>\n",
       "      <td>3333.000000</td>\n",
       "      <td>3333.000000</td>\n",
       "      <td>3333.000000</td>\n",
       "      <td>3333.000000</td>\n",
       "      <td>3333.000000</td>\n",
       "      <td>3333.000000</td>\n",
       "    </tr>\n",
       "    <tr>\n",
       "      <th>mean</th>\n",
       "      <td>0.144914</td>\n",
       "      <td>101.064806</td>\n",
       "      <td>0.903090</td>\n",
       "      <td>0.276628</td>\n",
       "      <td>0.816475</td>\n",
       "      <td>1.562856</td>\n",
       "      <td>179.775098</td>\n",
       "      <td>100.435644</td>\n",
       "      <td>56.305161</td>\n",
       "      <td>10.051488</td>\n",
       "      <td>10.237294</td>\n",
       "    </tr>\n",
       "    <tr>\n",
       "      <th>std</th>\n",
       "      <td>0.352067</td>\n",
       "      <td>39.822106</td>\n",
       "      <td>0.295879</td>\n",
       "      <td>0.447398</td>\n",
       "      <td>1.272668</td>\n",
       "      <td>1.315491</td>\n",
       "      <td>54.467389</td>\n",
       "      <td>20.069084</td>\n",
       "      <td>16.426032</td>\n",
       "      <td>2.535712</td>\n",
       "      <td>2.791840</td>\n",
       "    </tr>\n",
       "    <tr>\n",
       "      <th>min</th>\n",
       "      <td>0.000000</td>\n",
       "      <td>1.000000</td>\n",
       "      <td>0.000000</td>\n",
       "      <td>0.000000</td>\n",
       "      <td>0.000000</td>\n",
       "      <td>0.000000</td>\n",
       "      <td>0.000000</td>\n",
       "      <td>0.000000</td>\n",
       "      <td>14.000000</td>\n",
       "      <td>0.000000</td>\n",
       "      <td>0.000000</td>\n",
       "    </tr>\n",
       "    <tr>\n",
       "      <th>25%</th>\n",
       "      <td>0.000000</td>\n",
       "      <td>74.000000</td>\n",
       "      <td>1.000000</td>\n",
       "      <td>0.000000</td>\n",
       "      <td>0.000000</td>\n",
       "      <td>1.000000</td>\n",
       "      <td>143.700000</td>\n",
       "      <td>87.000000</td>\n",
       "      <td>45.000000</td>\n",
       "      <td>8.330000</td>\n",
       "      <td>8.500000</td>\n",
       "    </tr>\n",
       "    <tr>\n",
       "      <th>50%</th>\n",
       "      <td>0.000000</td>\n",
       "      <td>101.000000</td>\n",
       "      <td>1.000000</td>\n",
       "      <td>0.000000</td>\n",
       "      <td>0.000000</td>\n",
       "      <td>1.000000</td>\n",
       "      <td>179.400000</td>\n",
       "      <td>101.000000</td>\n",
       "      <td>53.500000</td>\n",
       "      <td>10.070000</td>\n",
       "      <td>10.300000</td>\n",
       "    </tr>\n",
       "    <tr>\n",
       "      <th>75%</th>\n",
       "      <td>0.000000</td>\n",
       "      <td>127.000000</td>\n",
       "      <td>1.000000</td>\n",
       "      <td>1.000000</td>\n",
       "      <td>1.780000</td>\n",
       "      <td>2.000000</td>\n",
       "      <td>216.400000</td>\n",
       "      <td>114.000000</td>\n",
       "      <td>66.200000</td>\n",
       "      <td>11.770000</td>\n",
       "      <td>12.100000</td>\n",
       "    </tr>\n",
       "    <tr>\n",
       "      <th>max</th>\n",
       "      <td>1.000000</td>\n",
       "      <td>243.000000</td>\n",
       "      <td>1.000000</td>\n",
       "      <td>1.000000</td>\n",
       "      <td>5.400000</td>\n",
       "      <td>9.000000</td>\n",
       "      <td>350.800000</td>\n",
       "      <td>165.000000</td>\n",
       "      <td>111.300000</td>\n",
       "      <td>18.190000</td>\n",
       "      <td>20.000000</td>\n",
       "    </tr>\n",
       "  </tbody>\n",
       "</table>\n",
       "</div>"
      ],
      "text/plain": [
       "             Churn  AccountWeeks  ContractRenewal     DataPlan    DataUsage  \\\n",
       "count  3333.000000   3333.000000      3333.000000  3333.000000  3333.000000   \n",
       "mean      0.144914    101.064806         0.903090     0.276628     0.816475   \n",
       "std       0.352067     39.822106         0.295879     0.447398     1.272668   \n",
       "min       0.000000      1.000000         0.000000     0.000000     0.000000   \n",
       "25%       0.000000     74.000000         1.000000     0.000000     0.000000   \n",
       "50%       0.000000    101.000000         1.000000     0.000000     0.000000   \n",
       "75%       0.000000    127.000000         1.000000     1.000000     1.780000   \n",
       "max       1.000000    243.000000         1.000000     1.000000     5.400000   \n",
       "\n",
       "       CustServCalls      DayMins     DayCalls  MonthlyCharge   OverageFee  \\\n",
       "count    3333.000000  3333.000000  3333.000000    3333.000000  3333.000000   \n",
       "mean        1.562856   179.775098   100.435644      56.305161    10.051488   \n",
       "std         1.315491    54.467389    20.069084      16.426032     2.535712   \n",
       "min         0.000000     0.000000     0.000000      14.000000     0.000000   \n",
       "25%         1.000000   143.700000    87.000000      45.000000     8.330000   \n",
       "50%         1.000000   179.400000   101.000000      53.500000    10.070000   \n",
       "75%         2.000000   216.400000   114.000000      66.200000    11.770000   \n",
       "max         9.000000   350.800000   165.000000     111.300000    18.190000   \n",
       "\n",
       "          RoamMins  \n",
       "count  3333.000000  \n",
       "mean     10.237294  \n",
       "std       2.791840  \n",
       "min       0.000000  \n",
       "25%       8.500000  \n",
       "50%      10.300000  \n",
       "75%      12.100000  \n",
       "max      20.000000  "
      ]
     },
     "execution_count": 5,
     "metadata": {},
     "output_type": "execute_result"
    }
   ],
   "source": [
    "df.describe() #ดูภาพรวมของข้อมูลหาความผิดปกติ"
   ]
  },
  {
   "cell_type": "markdown",
   "id": "d23ec5bd",
   "metadata": {
    "papermill": {
     "duration": 0.038111,
     "end_time": "2021-08-31T13:48:53.722823",
     "exception": false,
     "start_time": "2021-08-31T13:48:53.684712",
     "status": "completed"
    },
    "tags": []
   },
   "source": [
    "เช็คจาก mean min max และ percentile จะเห็นว่าข้อมูลเบ้ขวามากๆ / ถ้าค่า std เป็น 0 แสดงว่าไม่มีความแปรปรวนเลย = ข้อมูลเหมือนกันหมด"
   ]
  },
  {
   "cell_type": "code",
   "execution_count": 6,
   "id": "2e9c6aa0",
   "metadata": {
    "execution": {
     "iopub.execute_input": "2021-08-31T13:48:53.807060Z",
     "iopub.status.busy": "2021-08-31T13:48:53.806191Z",
     "iopub.status.idle": "2021-08-31T13:48:53.809783Z",
     "shell.execute_reply": "2021-08-31T13:48:53.809203Z"
    },
    "papermill": {
     "duration": 0.048239,
     "end_time": "2021-08-31T13:48:53.809939",
     "exception": false,
     "start_time": "2021-08-31T13:48:53.761700",
     "status": "completed"
    },
    "tags": []
   },
   "outputs": [],
   "source": [
    "y = df['Churn'].values \n",
    "X = df.drop(['Churn'],axis = 1).values"
   ]
  },
  {
   "cell_type": "code",
   "execution_count": 7,
   "id": "a83f00d6",
   "metadata": {
    "execution": {
     "iopub.execute_input": "2021-08-31T13:48:53.894693Z",
     "iopub.status.busy": "2021-08-31T13:48:53.893950Z",
     "iopub.status.idle": "2021-08-31T13:48:53.896575Z",
     "shell.execute_reply": "2021-08-31T13:48:53.897045Z"
    },
    "papermill": {
     "duration": 0.04718,
     "end_time": "2021-08-31T13:48:53.897221",
     "exception": false,
     "start_time": "2021-08-31T13:48:53.850041",
     "status": "completed"
    },
    "tags": []
   },
   "outputs": [
    {
     "data": {
      "text/plain": [
       "3333"
      ]
     },
     "execution_count": 7,
     "metadata": {},
     "output_type": "execute_result"
    }
   ],
   "source": [
    "len(y)"
   ]
  },
  {
   "cell_type": "code",
   "execution_count": 8,
   "id": "eebb842f",
   "metadata": {
    "execution": {
     "iopub.execute_input": "2021-08-31T13:48:53.979193Z",
     "iopub.status.busy": "2021-08-31T13:48:53.978449Z",
     "iopub.status.idle": "2021-08-31T13:48:53.983809Z",
     "shell.execute_reply": "2021-08-31T13:48:53.984292Z"
    },
    "papermill": {
     "duration": 0.048371,
     "end_time": "2021-08-31T13:48:53.984457",
     "exception": false,
     "start_time": "2021-08-31T13:48:53.936086",
     "status": "completed"
    },
    "tags": []
   },
   "outputs": [
    {
     "data": {
      "text/plain": [
       "483"
      ]
     },
     "execution_count": 8,
     "metadata": {},
     "output_type": "execute_result"
    }
   ],
   "source": [
    "y.sum() #ค่าที่ label เป็น 0"
   ]
  },
  {
   "cell_type": "code",
   "execution_count": 9,
   "id": "fee088e8",
   "metadata": {
    "execution": {
     "iopub.execute_input": "2021-08-31T13:48:54.068372Z",
     "iopub.status.busy": "2021-08-31T13:48:54.067740Z",
     "iopub.status.idle": "2021-08-31T13:48:54.072747Z",
     "shell.execute_reply": "2021-08-31T13:48:54.073251Z"
    },
    "papermill": {
     "duration": 0.048677,
     "end_time": "2021-08-31T13:48:54.073421",
     "exception": false,
     "start_time": "2021-08-31T13:48:54.024744",
     "status": "completed"
    },
    "tags": []
   },
   "outputs": [
    {
     "data": {
      "text/plain": [
       "2850"
      ]
     },
     "execution_count": 9,
     "metadata": {},
     "output_type": "execute_result"
    }
   ],
   "source": [
    "len(y) - y.sum() #ค่าที่ label เป็น 0"
   ]
  },
  {
   "cell_type": "markdown",
   "id": "848aa124",
   "metadata": {
    "papermill": {
     "duration": 0.040025,
     "end_time": "2021-08-31T13:48:54.154253",
     "exception": false,
     "start_time": "2021-08-31T13:48:54.114228",
     "status": "completed"
    },
    "tags": []
   },
   "source": [
    "1 คือลูกค้าย้ายค่าย 0 คือลูกค้าอยู่บริการเดิม"
   ]
  },
  {
   "cell_type": "code",
   "execution_count": 10,
   "id": "db4d99d0",
   "metadata": {
    "execution": {
     "iopub.execute_input": "2021-08-31T13:48:54.238150Z",
     "iopub.status.busy": "2021-08-31T13:48:54.237550Z",
     "iopub.status.idle": "2021-08-31T13:48:55.284053Z",
     "shell.execute_reply": "2021-08-31T13:48:55.283468Z"
    },
    "papermill": {
     "duration": 1.089459,
     "end_time": "2021-08-31T13:48:55.284203",
     "exception": false,
     "start_time": "2021-08-31T13:48:54.194744",
     "status": "completed"
    },
    "tags": []
   },
   "outputs": [],
   "source": [
    "from sklearn.model_selection import train_test_split \n",
    "X_train, X_test, y_train, y_test = train_test_split(X,y,test_size=0.2,random_state=0)"
   ]
  },
  {
   "cell_type": "code",
   "execution_count": 11,
   "id": "51ea0e32",
   "metadata": {
    "execution": {
     "iopub.execute_input": "2021-08-31T13:48:55.370540Z",
     "iopub.status.busy": "2021-08-31T13:48:55.369909Z",
     "iopub.status.idle": "2021-08-31T13:48:55.374462Z",
     "shell.execute_reply": "2021-08-31T13:48:55.375048Z"
    },
    "papermill": {
     "duration": 0.048889,
     "end_time": "2021-08-31T13:48:55.375219",
     "exception": false,
     "start_time": "2021-08-31T13:48:55.326330",
     "status": "completed"
    },
    "tags": []
   },
   "outputs": [
    {
     "data": {
      "text/plain": [
       "(2666, 10)"
      ]
     },
     "execution_count": 11,
     "metadata": {},
     "output_type": "execute_result"
    }
   ],
   "source": [
    "X_train.shape"
   ]
  },
  {
   "cell_type": "code",
   "execution_count": 12,
   "id": "5e5464d8",
   "metadata": {
    "execution": {
     "iopub.execute_input": "2021-08-31T13:48:55.461810Z",
     "iopub.status.busy": "2021-08-31T13:48:55.461104Z",
     "iopub.status.idle": "2021-08-31T13:48:55.466949Z",
     "shell.execute_reply": "2021-08-31T13:48:55.466331Z"
    },
    "papermill": {
     "duration": 0.050182,
     "end_time": "2021-08-31T13:48:55.467108",
     "exception": false,
     "start_time": "2021-08-31T13:48:55.416926",
     "status": "completed"
    },
    "tags": []
   },
   "outputs": [
    {
     "data": {
      "text/plain": [
       "(667, 10)"
      ]
     },
     "execution_count": 12,
     "metadata": {},
     "output_type": "execute_result"
    }
   ],
   "source": [
    "X_test.shape"
   ]
  },
  {
   "cell_type": "code",
   "execution_count": 13,
   "id": "d19240ca",
   "metadata": {
    "execution": {
     "iopub.execute_input": "2021-08-31T13:48:55.556694Z",
     "iopub.status.busy": "2021-08-31T13:48:55.555763Z",
     "iopub.status.idle": "2021-08-31T13:48:55.560138Z",
     "shell.execute_reply": "2021-08-31T13:48:55.559590Z"
    },
    "papermill": {
     "duration": 0.051384,
     "end_time": "2021-08-31T13:48:55.560290",
     "exception": false,
     "start_time": "2021-08-31T13:48:55.508906",
     "status": "completed"
    },
    "tags": []
   },
   "outputs": [
    {
     "data": {
      "text/plain": [
       "(2666,)"
      ]
     },
     "execution_count": 13,
     "metadata": {},
     "output_type": "execute_result"
    }
   ],
   "source": [
    "y_train.shape"
   ]
  },
  {
   "cell_type": "code",
   "execution_count": 14,
   "id": "fb1cf057",
   "metadata": {
    "execution": {
     "iopub.execute_input": "2021-08-31T13:48:55.650152Z",
     "iopub.status.busy": "2021-08-31T13:48:55.649251Z",
     "iopub.status.idle": "2021-08-31T13:48:55.653430Z",
     "shell.execute_reply": "2021-08-31T13:48:55.652922Z"
    },
    "papermill": {
     "duration": 0.050912,
     "end_time": "2021-08-31T13:48:55.653584",
     "exception": false,
     "start_time": "2021-08-31T13:48:55.602672",
     "status": "completed"
    },
    "tags": []
   },
   "outputs": [
    {
     "data": {
      "text/plain": [
       "(667,)"
      ]
     },
     "execution_count": 14,
     "metadata": {},
     "output_type": "execute_result"
    }
   ],
   "source": [
    "y_test.shape"
   ]
  },
  {
   "cell_type": "code",
   "execution_count": 15,
   "id": "99575984",
   "metadata": {
    "execution": {
     "iopub.execute_input": "2021-08-31T13:48:55.747106Z",
     "iopub.status.busy": "2021-08-31T13:48:55.746205Z",
     "iopub.status.idle": "2021-08-31T13:48:55.749669Z",
     "shell.execute_reply": "2021-08-31T13:48:55.750142Z"
    },
    "papermill": {
     "duration": 0.05527,
     "end_time": "2021-08-31T13:48:55.750309",
     "exception": false,
     "start_time": "2021-08-31T13:48:55.695039",
     "status": "completed"
    },
    "tags": []
   },
   "outputs": [
    {
     "data": {
      "text/plain": [
       "395"
      ]
     },
     "execution_count": 15,
     "metadata": {},
     "output_type": "execute_result"
    }
   ],
   "source": [
    "y_train.sum() #label = 1"
   ]
  },
  {
   "cell_type": "code",
   "execution_count": 16,
   "id": "1f8e86d7",
   "metadata": {
    "execution": {
     "iopub.execute_input": "2021-08-31T13:48:55.841543Z",
     "iopub.status.busy": "2021-08-31T13:48:55.840896Z",
     "iopub.status.idle": "2021-08-31T13:48:55.846925Z",
     "shell.execute_reply": "2021-08-31T13:48:55.846335Z"
    },
    "papermill": {
     "duration": 0.052982,
     "end_time": "2021-08-31T13:48:55.847086",
     "exception": false,
     "start_time": "2021-08-31T13:48:55.794104",
     "status": "completed"
    },
    "tags": []
   },
   "outputs": [
    {
     "data": {
      "text/plain": [
       "2271"
      ]
     },
     "execution_count": 16,
     "metadata": {},
     "output_type": "execute_result"
    }
   ],
   "source": [
    "len(y_train) - y_train.sum() #label = 0"
   ]
  },
  {
   "cell_type": "markdown",
   "id": "5cfbae90",
   "metadata": {
    "papermill": {
     "duration": 0.044293,
     "end_time": "2021-08-31T13:48:55.935203",
     "exception": false,
     "start_time": "2021-08-31T13:48:55.890910",
     "status": "completed"
    },
    "tags": []
   },
   "source": [
    "# **Training**"
   ]
  },
  {
   "cell_type": "markdown",
   "id": "784e39da",
   "metadata": {
    "papermill": {
     "duration": 0.043149,
     "end_time": "2021-08-31T13:48:56.021562",
     "exception": false,
     "start_time": "2021-08-31T13:48:55.978413",
     "status": "completed"
    },
    "tags": []
   },
   "source": [
    "**RandomForest**"
   ]
  },
  {
   "cell_type": "code",
   "execution_count": 17,
   "id": "3fbc04ee",
   "metadata": {
    "execution": {
     "iopub.execute_input": "2021-08-31T13:48:56.114864Z",
     "iopub.status.busy": "2021-08-31T13:48:56.113741Z",
     "iopub.status.idle": "2021-08-31T13:49:39.532457Z",
     "shell.execute_reply": "2021-08-31T13:49:39.532988Z"
    },
    "papermill": {
     "duration": 43.469141,
     "end_time": "2021-08-31T13:49:39.533180",
     "exception": false,
     "start_time": "2021-08-31T13:48:56.064039",
     "status": "completed"
    },
    "tags": []
   },
   "outputs": [
    {
     "data": {
      "text/plain": [
       "GridSearchCV(cv=10,\n",
       "             estimator=Pipeline(steps=[('scaler', MinMaxScaler()),\n",
       "                                       ('feature_selection', SelectKBest()),\n",
       "                                       ('classification',\n",
       "                                        RandomForestClassifier(random_state=0))]),\n",
       "             param_grid={'classification__n_estimators': [10, 20, 50, 100, 200],\n",
       "                         'feature_selection__k': [3, 5, 7]})"
      ]
     },
     "execution_count": 17,
     "metadata": {},
     "output_type": "execute_result"
    }
   ],
   "source": [
    "from sklearn.preprocessing import MinMaxScaler #normalization\n",
    "from sklearn.ensemble import RandomForestClassifier #classifier\n",
    "from sklearn.model_selection import GridSearchCV \n",
    "from sklearn.pipeline import Pipeline\n",
    "\n",
    "#from imblearn.under_sampling import RandomUnderSampler #imbalanced\n",
    "\n",
    "from sklearn.feature_selection import SelectKBest\n",
    "from sklearn.feature_selection import f_classif\n",
    "\n",
    "#Imbalanced\n",
    "#undersample = RandomUnderSampler(sampling_strategy='majority') \n",
    "#X_res, y_res = undersample.fit_resample(X_train, y_train)\n",
    "\n",
    "#Pipeline\n",
    "clf = Pipeline([ \n",
    "    ('scaler',MinMaxScaler(feature_range=(0,1))), #normalization\n",
    "    ('feature_selection',SelectKBest(f_classif)), #select feature\n",
    "    ('classification',RandomForestClassifier(random_state=0))#classifier\n",
    "])\n",
    "\n",
    "\n",
    "#Tune GridSearchCV\n",
    "params = { \n",
    "    'feature_selection__k':[3,5,7],\n",
    "    'classification__n_estimators': [10,20,50,100,200],\n",
    "}\n",
    "best_clf = GridSearchCV(clf, params, cv=10)\n",
    "\n",
    "best_clf.fit(X_train, y_train)"
   ]
  },
  {
   "cell_type": "code",
   "execution_count": 18,
   "id": "84e1ebdc",
   "metadata": {
    "execution": {
     "iopub.execute_input": "2021-08-31T13:49:39.623267Z",
     "iopub.status.busy": "2021-08-31T13:49:39.622555Z",
     "iopub.status.idle": "2021-08-31T13:49:39.625876Z",
     "shell.execute_reply": "2021-08-31T13:49:39.626392Z"
    },
    "papermill": {
     "duration": 0.050851,
     "end_time": "2021-08-31T13:49:39.626587",
     "exception": false,
     "start_time": "2021-08-31T13:49:39.575736",
     "status": "completed"
    },
    "tags": []
   },
   "outputs": [
    {
     "name": "stdout",
     "output_type": "stream",
     "text": [
      "10CV accuracy: 0.9227408408662103\n"
     ]
    }
   ],
   "source": [
    "acc = best_clf.best_score_\n",
    "print(\"10CV accuracy: \"+str(acc))"
   ]
  },
  {
   "cell_type": "code",
   "execution_count": 19,
   "id": "23ba8569",
   "metadata": {
    "execution": {
     "iopub.execute_input": "2021-08-31T13:49:39.718138Z",
     "iopub.status.busy": "2021-08-31T13:49:39.717435Z",
     "iopub.status.idle": "2021-08-31T13:49:39.721541Z",
     "shell.execute_reply": "2021-08-31T13:49:39.721001Z"
    },
    "papermill": {
     "duration": 0.052026,
     "end_time": "2021-08-31T13:49:39.721747",
     "exception": false,
     "start_time": "2021-08-31T13:49:39.669721",
     "status": "completed"
    },
    "tags": []
   },
   "outputs": [
    {
     "data": {
      "text/plain": [
       "{'classification__n_estimators': 200, 'feature_selection__k': 7}"
      ]
     },
     "execution_count": 19,
     "metadata": {},
     "output_type": "execute_result"
    }
   ],
   "source": [
    "best_clf.best_params_"
   ]
  },
  {
   "cell_type": "code",
   "execution_count": 20,
   "id": "f16e7b5d",
   "metadata": {
    "execution": {
     "iopub.execute_input": "2021-08-31T13:49:39.814467Z",
     "iopub.status.busy": "2021-08-31T13:49:39.813453Z",
     "iopub.status.idle": "2021-08-31T13:49:39.859864Z",
     "shell.execute_reply": "2021-08-31T13:49:39.859294Z"
    },
    "papermill": {
     "duration": 0.094647,
     "end_time": "2021-08-31T13:49:39.860002",
     "exception": false,
     "start_time": "2021-08-31T13:49:39.765355",
     "status": "completed"
    },
    "tags": []
   },
   "outputs": [
    {
     "name": "stdout",
     "output_type": "stream",
     "text": [
      "Test Training accuracy: 0.9265367316341829\n"
     ]
    }
   ],
   "source": [
    "yp = best_clf.predict(X_test)\n",
    "acc = sum(yp == y_test)/len(y_test)\n",
    "print(\"Test Training accuracy: \"+str(acc))"
   ]
  },
  {
   "cell_type": "code",
   "execution_count": 21,
   "id": "aca1a262",
   "metadata": {
    "execution": {
     "iopub.execute_input": "2021-08-31T13:49:39.955385Z",
     "iopub.status.busy": "2021-08-31T13:49:39.954535Z",
     "iopub.status.idle": "2021-08-31T13:49:40.312806Z",
     "shell.execute_reply": "2021-08-31T13:49:40.313260Z"
    },
    "papermill": {
     "duration": 0.409613,
     "end_time": "2021-08-31T13:49:40.313436",
     "exception": false,
     "start_time": "2021-08-31T13:49:39.903823",
     "status": "completed"
    },
    "tags": []
   },
   "outputs": [
    {
     "data": {
      "image/png": "[encoded data removed]",
      "text/plain": [
       "<Figure size 432x288 with 2 Axes>"
      ]
     },
     "metadata": {
      "needs_background": "light"
     },
     "output_type": "display_data"
    }
   ],
   "source": [
    "from sklearn.metrics import confusion_matrix\n",
    "import matplotlib.pyplot as plt\n",
    "import seaborn as sns\n",
    "target_names = ['negative(0)', 'positive(1)']\n",
    "C = confusion_matrix(y_test,yp) \n",
    "C = C / C.astype(np.float).sum(axis=1)*100\n",
    "sns.heatmap(C, annot=True, fmt=\"f\",cmap=\"GnBu\",xticklabels=target_names, yticklabels=target_names)\n",
    "plt.ylabel(\"True Label\")\n",
    "plt.xlabel(\"Predicted Label\")\n",
    "plt.show()"
   ]
  },
  {
   "cell_type": "code",
   "execution_count": 22,
   "id": "3d60f98d",
   "metadata": {
    "execution": {
     "iopub.execute_input": "2021-08-31T13:49:40.408578Z",
     "iopub.status.busy": "2021-08-31T13:49:40.407879Z",
     "iopub.status.idle": "2021-08-31T13:49:40.416560Z",
     "shell.execute_reply": "2021-08-31T13:49:40.417012Z"
    },
    "papermill": {
     "duration": 0.058771,
     "end_time": "2021-08-31T13:49:40.417201",
     "exception": false,
     "start_time": "2021-08-31T13:49:40.358430",
     "status": "completed"
    },
    "tags": []
   },
   "outputs": [
    {
     "name": "stdout",
     "output_type": "stream",
     "text": [
      "              precision    recall  f1-score   support\n",
      "\n",
      " negative(0)       0.95      0.97      0.96       579\n",
      " positive(1)       0.75      0.67      0.71        88\n",
      "\n",
      "    accuracy                           0.93       667\n",
      "   macro avg       0.85      0.82      0.83       667\n",
      "weighted avg       0.92      0.93      0.92       667\n",
      "\n"
     ]
    }
   ],
   "source": [
    "from sklearn.metrics import classification_report\n",
    "print(classification_report(y_test,yp,target_names=target_names)) "
   ]
  },
  {
   "cell_type": "markdown",
   "id": "4c34a07f",
   "metadata": {
    "papermill": {
     "duration": 0.045368,
     "end_time": "2021-08-31T13:49:40.507882",
     "exception": false,
     "start_time": "2021-08-31T13:49:40.462514",
     "status": "completed"
    },
    "tags": []
   },
   "source": [
    "_________________________________________________________________________________"
   ]
  },
  {
   "cell_type": "markdown",
   "id": "e5aad144",
   "metadata": {
    "papermill": {
     "duration": 0.045079,
     "end_time": "2021-08-31T13:49:40.598293",
     "exception": false,
     "start_time": "2021-08-31T13:49:40.553214",
     "status": "completed"
    },
    "tags": []
   },
   "source": [
    "**SVC**"
   ]
  },
  {
   "cell_type": "code",
   "execution_count": 23,
   "id": "d36e0207",
   "metadata": {
    "execution": {
     "iopub.execute_input": "2021-08-31T13:49:40.700178Z",
     "iopub.status.busy": "2021-08-31T13:49:40.699534Z",
     "iopub.status.idle": "2021-08-31T13:52:55.405498Z",
     "shell.execute_reply": "2021-08-31T13:52:55.406031Z"
    },
    "papermill": {
     "duration": 194.7622,
     "end_time": "2021-08-31T13:52:55.406228",
     "exception": false,
     "start_time": "2021-08-31T13:49:40.644028",
     "status": "completed"
    },
    "tags": []
   },
   "outputs": [
    {
     "data": {
      "text/plain": [
       "GridSearchCV(cv=10,\n",
       "             estimator=Pipeline(steps=[('scaler', MinMaxScaler()),\n",
       "                                       ('feature_selection', SelectKBest()),\n",
       "                                       ('classification',\n",
       "                                        SVC(random_state=0))]),\n",
       "             param_grid={'classification__C': [1, 2, 4, 8, 16, 32],\n",
       "                         'classification__gamma': [0.0625, 0.0125, 0.025, 0.05,\n",
       "                                                   0.01, 0, 1, 2, 4, 8, 16,\n",
       "                                                   32],\n",
       "                         'feature_selection__k': [3, 5, 7]})"
      ]
     },
     "execution_count": 23,
     "metadata": {},
     "output_type": "execute_result"
    }
   ],
   "source": [
    "from sklearn.preprocessing import MinMaxScaler #normalization\n",
    "from sklearn.svm import SVC #classifier\n",
    "from sklearn.model_selection import GridSearchCV \n",
    "from sklearn.pipeline import Pipeline\n",
    "\n",
    "#from imblearn.under_sampling import RandomUnderSampler #imbalanced\n",
    "\n",
    "from sklearn.feature_selection import SelectKBest\n",
    "from sklearn.feature_selection import f_classif\n",
    "\n",
    "#Imbalanced\n",
    "#undersample = RandomUnderSampler(sampling_strategy='majority') \n",
    "#X_res, y_res = undersample.fit_resample(X_train, y_train)\n",
    "\n",
    "#Pipeline\n",
    "clf = Pipeline([ \n",
    "    ('scaler',MinMaxScaler(feature_range=(0,1))), #normalization\n",
    "    ('feature_selection',SelectKBest(f_classif)), #select feature\n",
    "    ('classification',SVC(random_state=0))#classifier\n",
    "])\n",
    "\n",
    "\n",
    "#Tune GridSearchCV\n",
    "params = { \n",
    "    'feature_selection__k':[3,5,7],\n",
    "    'classification__C': [1,2,4,8,16,32],\n",
    "    'classification__gamma' :[0.0625,0.0125,0.025,0.05,0.01,0,1,2,4,8,16,32]\n",
    "}\n",
    "best_clf = GridSearchCV(clf, params, cv=10)\n",
    "\n",
    "best_clf.fit(X_train, y_train)"
   ]
  },
  {
   "cell_type": "code",
   "execution_count": 24,
   "id": "6b3b8fb3",
   "metadata": {
    "execution": {
     "iopub.execute_input": "2021-08-31T13:52:55.510096Z",
     "iopub.status.busy": "2021-08-31T13:52:55.509388Z",
     "iopub.status.idle": "2021-08-31T13:52:55.514045Z",
     "shell.execute_reply": "2021-08-31T13:52:55.513223Z"
    },
    "papermill": {
     "duration": 0.059195,
     "end_time": "2021-08-31T13:52:55.514254",
     "exception": false,
     "start_time": "2021-08-31T13:52:55.455059",
     "status": "completed"
    },
    "tags": []
   },
   "outputs": [
    {
     "name": "stdout",
     "output_type": "stream",
     "text": [
      "10CV accuracy: 0.9156106558531159\n"
     ]
    }
   ],
   "source": [
    "acc = best_clf.best_score_\n",
    "print(\"10CV accuracy: \"+str(acc))"
   ]
  },
  {
   "cell_type": "code",
   "execution_count": 25,
   "id": "7d26ece4",
   "metadata": {
    "execution": {
     "iopub.execute_input": "2021-08-31T13:52:55.618617Z",
     "iopub.status.busy": "2021-08-31T13:52:55.617652Z",
     "iopub.status.idle": "2021-08-31T13:52:55.622089Z",
     "shell.execute_reply": "2021-08-31T13:52:55.621574Z"
    },
    "papermill": {
     "duration": 0.057993,
     "end_time": "2021-08-31T13:52:55.622231",
     "exception": false,
     "start_time": "2021-08-31T13:52:55.564238",
     "status": "completed"
    },
    "tags": []
   },
   "outputs": [
    {
     "data": {
      "text/plain": [
       "{'classification__C': 32,\n",
       " 'classification__gamma': 4,\n",
       " 'feature_selection__k': 7}"
      ]
     },
     "execution_count": 25,
     "metadata": {},
     "output_type": "execute_result"
    }
   ],
   "source": [
    "best_clf.best_params_"
   ]
  },
  {
   "cell_type": "code",
   "execution_count": 26,
   "id": "f5a4b328",
   "metadata": {
    "execution": {
     "iopub.execute_input": "2021-08-31T13:52:55.728168Z",
     "iopub.status.busy": "2021-08-31T13:52:55.727446Z",
     "iopub.status.idle": "2021-08-31T13:52:55.747099Z",
     "shell.execute_reply": "2021-08-31T13:52:55.746413Z"
    },
    "papermill": {
     "duration": 0.075333,
     "end_time": "2021-08-31T13:52:55.747244",
     "exception": false,
     "start_time": "2021-08-31T13:52:55.671911",
     "status": "completed"
    },
    "tags": []
   },
   "outputs": [
    {
     "name": "stdout",
     "output_type": "stream",
     "text": [
      "Test Training accuracy: 0.9220389805097451\n"
     ]
    }
   ],
   "source": [
    "yp = best_clf.predict(X_test)\n",
    "acc = sum(yp == y_test)/len(y_test)\n",
    "print(\"Test Training accuracy: \"+str(acc))"
   ]
  },
  {
   "cell_type": "code",
   "execution_count": 27,
   "id": "9883a204",
   "metadata": {
    "execution": {
     "iopub.execute_input": "2021-08-31T13:52:55.852877Z",
     "iopub.status.busy": "2021-08-31T13:52:55.852004Z",
     "iopub.status.idle": "2021-08-31T13:52:56.049316Z",
     "shell.execute_reply": "2021-08-31T13:52:56.048753Z"
    },
    "papermill": {
     "duration": 0.252707,
     "end_time": "2021-08-31T13:52:56.049497",
     "exception": false,
     "start_time": "2021-08-31T13:52:55.796790",
     "status": "completed"
    },
    "tags": []
   },
   "outputs": [
    {
     "data": {
      "image/png": "[encoded data removed]",
      "text/plain": [
       "<Figure size 432x288 with 2 Axes>"
      ]
     },
     "metadata": {
      "needs_background": "light"
     },
     "output_type": "display_data"
    }
   ],
   "source": [
    "from sklearn.metrics import confusion_matrix\n",
    "import matplotlib.pyplot as plt\n",
    "import seaborn as sns\n",
    "target_names = ['negative(0)', 'positive(1)']\n",
    "C = confusion_matrix(y_test,yp) \n",
    "C = C / C.astype(np.float).sum(axis=1)*100\n",
    "sns.heatmap(C, annot=True, fmt=\"f\",cmap=\"GnBu\",xticklabels=target_names, yticklabels=target_names)\n",
    "plt.ylabel(\"True Label\")\n",
    "plt.xlabel(\"Predicted Label\")\n",
    "plt.show()"
   ]
  },
  {
   "cell_type": "code",
   "execution_count": 28,
   "id": "97973c7a",
   "metadata": {
    "execution": {
     "iopub.execute_input": "2021-08-31T13:52:56.154766Z",
     "iopub.status.busy": "2021-08-31T13:52:56.154068Z",
     "iopub.status.idle": "2021-08-31T13:52:56.163836Z",
     "shell.execute_reply": "2021-08-31T13:52:56.163253Z"
    },
    "papermill": {
     "duration": 0.064509,
     "end_time": "2021-08-31T13:52:56.163978",
     "exception": false,
     "start_time": "2021-08-31T13:52:56.099469",
     "status": "completed"
    },
    "tags": []
   },
   "outputs": [
    {
     "name": "stdout",
     "output_type": "stream",
     "text": [
      "              precision    recall  f1-score   support\n",
      "\n",
      " negative(0)       0.94      0.97      0.96       579\n",
      " positive(1)       0.74      0.62      0.68        88\n",
      "\n",
      "    accuracy                           0.92       667\n",
      "   macro avg       0.84      0.80      0.82       667\n",
      "weighted avg       0.92      0.92      0.92       667\n",
      "\n"
     ]
    }
   ],
   "source": [
    "from sklearn.metrics import classification_report\n",
    "print(classification_report(y_test,yp,target_names=target_names)) "
   ]
  },
  {
   "cell_type": "markdown",
   "id": "b2a88364",
   "metadata": {
    "papermill": {
     "duration": 0.049123,
     "end_time": "2021-08-31T13:52:56.263368",
     "exception": false,
     "start_time": "2021-08-31T13:52:56.214245",
     "status": "completed"
    },
    "tags": []
   },
   "source": [
    "____________________________________________________________________________________"
   ]
  },
  {
   "cell_type": "markdown",
   "id": "b0935113",
   "metadata": {
    "papermill": {
     "duration": 0.049107,
     "end_time": "2021-08-31T13:52:56.361958",
     "exception": false,
     "start_time": "2021-08-31T13:52:56.312851",
     "status": "completed"
    },
    "tags": []
   },
   "source": [
    "**ExtraTrees**"
   ]
  },
  {
   "cell_type": "code",
   "execution_count": 29,
   "id": "ac22f00f",
   "metadata": {
    "execution": {
     "iopub.execute_input": "2021-08-31T13:52:56.469568Z",
     "iopub.status.busy": "2021-08-31T13:52:56.468844Z",
     "iopub.status.idle": "2021-08-31T13:53:08.070618Z",
     "shell.execute_reply": "2021-08-31T13:53:08.071087Z"
    },
    "papermill": {
     "duration": 11.659803,
     "end_time": "2021-08-31T13:53:08.071271",
     "exception": false,
     "start_time": "2021-08-31T13:52:56.411468",
     "status": "completed"
    },
    "tags": []
   },
   "outputs": [
    {
     "data": {
      "text/plain": [
       "GridSearchCV(cv=10,\n",
       "             estimator=Pipeline(steps=[('scaler', MinMaxScaler()),\n",
       "                                       ('classification',\n",
       "                                        ExtraTreesClassifier(random_state=0))]),\n",
       "             param_grid={'classification__n_estimators': [10, 20, 50, 100,\n",
       "                                                          200]})"
      ]
     },
     "execution_count": 29,
     "metadata": {},
     "output_type": "execute_result"
    }
   ],
   "source": [
    "from sklearn.preprocessing import MinMaxScaler #normalization\n",
    "from sklearn.ensemble import ExtraTreesClassifier #classifier\n",
    "from sklearn.model_selection import GridSearchCV \n",
    "from sklearn.pipeline import Pipeline\n",
    "\n",
    "#from imblearn.under_sampling import RandomUnderSampler #imbalanced\n",
    "\n",
    "#Select feature\n",
    "#from sklearn.feature_selection import SelectKBest\n",
    "#from sklearn.feature_selection import f_classif\n",
    "\n",
    "#Imbalanced\n",
    "#undersample = RandomUnderSampler(sampling_strategy='majority') \n",
    "#X_res, y_res = undersample.fit_resample(X_train, y_train)\n",
    "\n",
    "#Pipeline\n",
    "clf = Pipeline([ \n",
    "    ('scaler',MinMaxScaler(feature_range=(0,1))), #normalization\n",
    "    #('feature_selection',SelectKBest(f_classif)), #select feature\n",
    "    ('classification',ExtraTreesClassifier(random_state=0))#classifier\n",
    "])\n",
    "\n",
    "\n",
    "#Tune GridSearchCV\n",
    "params = { \n",
    "    #'feature_selection__k':[3,5,7],\n",
    "    'classification__n_estimators': [10,20,50,100,200]\n",
    "}\n",
    "best_clf = GridSearchCV(clf, params, cv=10)\n",
    "\n",
    "best_clf.fit(X_train, y_train)"
   ]
  },
  {
   "cell_type": "code",
   "execution_count": 30,
   "id": "889c94f8",
   "metadata": {
    "execution": {
     "iopub.execute_input": "2021-08-31T13:53:08.174405Z",
     "iopub.status.busy": "2021-08-31T13:53:08.173804Z",
     "iopub.status.idle": "2021-08-31T13:53:08.179541Z",
     "shell.execute_reply": "2021-08-31T13:53:08.178913Z"
    },
    "papermill": {
     "duration": 0.057768,
     "end_time": "2021-08-31T13:53:08.179706",
     "exception": false,
     "start_time": "2021-08-31T13:53:08.121938",
     "status": "completed"
    },
    "tags": []
   },
   "outputs": [
    {
     "name": "stdout",
     "output_type": "stream",
     "text": [
      "10CV accuracy: 0.9298555377207063\n"
     ]
    }
   ],
   "source": [
    "acc = best_clf.best_score_\n",
    "print(\"10CV accuracy: \"+str(acc))"
   ]
  },
  {
   "cell_type": "code",
   "execution_count": 31,
   "id": "bee53116",
   "metadata": {
    "execution": {
     "iopub.execute_input": "2021-08-31T13:53:08.282825Z",
     "iopub.status.busy": "2021-08-31T13:53:08.282174Z",
     "iopub.status.idle": "2021-08-31T13:53:08.287457Z",
     "shell.execute_reply": "2021-08-31T13:53:08.288013Z"
    },
    "papermill": {
     "duration": 0.058192,
     "end_time": "2021-08-31T13:53:08.288183",
     "exception": false,
     "start_time": "2021-08-31T13:53:08.229991",
     "status": "completed"
    },
    "tags": []
   },
   "outputs": [
    {
     "data": {
      "text/plain": [
       "{'classification__n_estimators': 200}"
      ]
     },
     "execution_count": 31,
     "metadata": {},
     "output_type": "execute_result"
    }
   ],
   "source": [
    "best_clf.best_params_"
   ]
  },
  {
   "cell_type": "code",
   "execution_count": 32,
   "id": "ed323aa5",
   "metadata": {
    "execution": {
     "iopub.execute_input": "2021-08-31T13:53:08.391474Z",
     "iopub.status.busy": "2021-08-31T13:53:08.390823Z",
     "iopub.status.idle": "2021-08-31T13:53:08.447164Z",
     "shell.execute_reply": "2021-08-31T13:53:08.446623Z"
    },
    "papermill": {
     "duration": 0.10915,
     "end_time": "2021-08-31T13:53:08.447313",
     "exception": false,
     "start_time": "2021-08-31T13:53:08.338163",
     "status": "completed"
    },
    "tags": []
   },
   "outputs": [
    {
     "name": "stdout",
     "output_type": "stream",
     "text": [
      "Test Training accuracy: 0.9250374812593704\n"
     ]
    }
   ],
   "source": [
    "yp = best_clf.predict(X_test)\n",
    "acc = sum(yp == y_test)/len(y_test)\n",
    "print(\"Test Training accuracy: \"+str(acc))"
   ]
  },
  {
   "cell_type": "code",
   "execution_count": 33,
   "id": "952f0212",
   "metadata": {
    "execution": {
     "iopub.execute_input": "2021-08-31T13:53:08.553282Z",
     "iopub.status.busy": "2021-08-31T13:53:08.552596Z",
     "iopub.status.idle": "2021-08-31T13:53:08.735641Z",
     "shell.execute_reply": "2021-08-31T13:53:08.734994Z"
    },
    "papermill": {
     "duration": 0.237724,
     "end_time": "2021-08-31T13:53:08.735783",
     "exception": false,
     "start_time": "2021-08-31T13:53:08.498059",
     "status": "completed"
    },
    "tags": []
   },
   "outputs": [
    {
     "data": {
      "image/png": "[encoded data removed]",
      "text/plain": [
       "<Figure size 432x288 with 2 Axes>"
      ]
     },
     "metadata": {
      "needs_background": "light"
     },
     "output_type": "display_data"
    }
   ],
   "source": [
    "from sklearn.metrics import confusion_matrix\n",
    "import matplotlib.pyplot as plt\n",
    "import seaborn as sns\n",
    "target_names = ['negative(0)', 'positive(1)']\n",
    "C = confusion_matrix(y_test,yp) \n",
    "C = C / C.astype(np.float).sum(axis=1)*100\n",
    "sns.heatmap(C, annot=True, fmt=\"f\",cmap=\"GnBu\",xticklabels=target_names, yticklabels=target_names)\n",
    "plt.ylabel(\"True Label\")\n",
    "plt.xlabel(\"Predicted Label\")\n",
    "plt.show()"
   ]
  },
  {
   "cell_type": "code",
   "execution_count": 34,
   "id": "01b58fe9",
   "metadata": {
    "execution": {
     "iopub.execute_input": "2021-08-31T13:53:08.845655Z",
     "iopub.status.busy": "2021-08-31T13:53:08.844647Z",
     "iopub.status.idle": "2021-08-31T13:53:08.854956Z",
     "shell.execute_reply": "2021-08-31T13:53:08.854056Z"
    },
    "papermill": {
     "duration": 0.067297,
     "end_time": "2021-08-31T13:53:08.855163",
     "exception": false,
     "start_time": "2021-08-31T13:53:08.787866",
     "status": "completed"
    },
    "tags": []
   },
   "outputs": [
    {
     "name": "stdout",
     "output_type": "stream",
     "text": [
      "              precision    recall  f1-score   support\n",
      "\n",
      " negative(0)       0.95      0.97      0.96       579\n",
      " positive(1)       0.75      0.65      0.70        88\n",
      "\n",
      "    accuracy                           0.93       667\n",
      "   macro avg       0.85      0.81      0.83       667\n",
      "weighted avg       0.92      0.93      0.92       667\n",
      "\n"
     ]
    }
   ],
   "source": [
    "from sklearn.metrics import classification_report\n",
    "print(classification_report(y_test,yp,target_names=target_names)) "
   ]
  },
  {
   "cell_type": "code",
   "execution_count": 35,
   "id": "743c84e2",
   "metadata": {
    "execution": {
     "iopub.execute_input": "2021-08-31T13:53:08.967651Z",
     "iopub.status.busy": "2021-08-31T13:53:08.966598Z",
     "iopub.status.idle": "2021-08-31T13:53:08.993263Z",
     "shell.execute_reply": "2021-08-31T13:53:08.993816Z"
    },
    "papermill": {
     "duration": 0.085825,
     "end_time": "2021-08-31T13:53:08.993995",
     "exception": false,
     "start_time": "2021-08-31T13:53:08.908170",
     "status": "completed"
    },
    "tags": []
   },
   "outputs": [
    {
     "data": {
      "text/plain": [
       "array([0.07042887, 0.07255904, 0.02574699, 0.05180713, 0.15808602,\n",
       "       0.17833695, 0.07211594, 0.19021937, 0.09295035, 0.08774935])"
      ]
     },
     "execution_count": 35,
     "metadata": {},
     "output_type": "execute_result"
    }
   ],
   "source": [
    "best_clf.best_estimator_.steps[1][1].feature_importances_"
   ]
  },
  {
   "cell_type": "markdown",
   "id": "2686da56",
   "metadata": {
    "papermill": {
     "duration": 0.052529,
     "end_time": "2021-08-31T13:53:09.100714",
     "exception": false,
     "start_time": "2021-08-31T13:53:09.048185",
     "status": "completed"
    },
    "tags": []
   },
   "source": [
    "___________________________________________________________________________________"
   ]
  },
  {
   "cell_type": "markdown",
   "id": "28f9ead8",
   "metadata": {
    "papermill": {
     "duration": 0.053029,
     "end_time": "2021-08-31T13:53:09.207555",
     "exception": false,
     "start_time": "2021-08-31T13:53:09.154526",
     "status": "completed"
    },
    "tags": []
   },
   "source": [
    "# **ASSIGNMENT**"
   ]
  },
  {
   "cell_type": "markdown",
   "id": "8b077205",
   "metadata": {
    "papermill": {
     "duration": 0.053141,
     "end_time": "2021-08-31T13:53:09.314149",
     "exception": false,
     "start_time": "2021-08-31T13:53:09.261008",
     "status": "completed"
    },
    "tags": []
   },
   "source": [
    "**Training**"
   ]
  },
  {
   "cell_type": "code",
   "execution_count": 36,
   "id": "d7aaf107",
   "metadata": {
    "execution": {
     "iopub.execute_input": "2021-08-31T13:53:09.429995Z",
     "iopub.status.busy": "2021-08-31T13:53:09.428944Z",
     "iopub.status.idle": "2021-08-31T14:31:49.034808Z",
     "shell.execute_reply": "2021-08-31T14:31:49.035396Z"
    },
    "papermill": {
     "duration": 2319.668798,
     "end_time": "2021-08-31T14:31:49.035633",
     "exception": false,
     "start_time": "2021-08-31T13:53:09.366835",
     "status": "completed"
    },
    "tags": []
   },
   "outputs": [
    {
     "data": {
      "text/plain": [
       "GridSearchCV(cv=10,\n",
       "             estimator=Pipeline(steps=[('scaler', MinMaxScaler()),\n",
       "                                       ('feature_selection', SelectKBest()),\n",
       "                                       ('classification',\n",
       "                                        RandomForestClassifier(random_state=0))]),\n",
       "             param_grid={'classification__criterion': ['gini', 'entropy'],\n",
       "                         'classification__max_depth': [0.5, 0.8],\n",
       "                         'classification__min_samples_leaf': [1, 2, 4, 8, 16,\n",
       "                                                              32],\n",
       "                         'classification__n_estimators': [10, 100, 1000],\n",
       "                         'feature_selection__k': [3, 5, 7, 10]})"
      ]
     },
     "execution_count": 36,
     "metadata": {},
     "output_type": "execute_result"
    }
   ],
   "source": [
    "from imblearn.over_sampling import SMOTE #imbalanced\n",
    "from sklearn.pipeline import Pipeline\n",
    "from sklearn.preprocessing import MinMaxScaler #normalization\n",
    "from sklearn.feature_selection import SelectKBest #select feature\n",
    "from sklearn.feature_selection import f_classif #select feature\n",
    "from sklearn.ensemble import RandomForestClassifier #classifier\n",
    "from sklearn.model_selection import GridSearchCV \n",
    "\n",
    "#Imbalanced\n",
    "sm = SMOTE(random_state=1)\n",
    "X_res, y_res = sm.fit_resample(X_train, y_train)\n",
    "\n",
    "#Pipeline\n",
    "clf = Pipeline([ \n",
    "    ('scaler',MinMaxScaler(feature_range=(0,1))), #normalization\n",
    "    ('feature_selection',SelectKBest(f_classif)), #select feature\n",
    "    ('classification',RandomForestClassifier(random_state=0)) #classifier (auto select feature)\n",
    "])\n",
    "\n",
    "#Tune GridSearchCV\n",
    "params = { \n",
    "    'feature_selection__k':[3,5,7,10],\n",
    "    'classification__n_estimators': [10,100,1000],\n",
    "    'classification__min_samples_leaf': [1,2,4,8,16,32],\n",
    "    'classification__max_depth' : [0.5,0.8],\n",
    "    'classification__criterion': ['gini','entropy'],\n",
    "}\n",
    "best_clf = GridSearchCV(clf, params, cv=10)\n",
    "\n",
    "best_clf.fit(X_res, y_res)"
   ]
  },
  {
   "cell_type": "code",
   "execution_count": 37,
   "id": "8b70e360",
   "metadata": {
    "execution": {
     "iopub.execute_input": "2021-08-31T14:31:49.147868Z",
     "iopub.status.busy": "2021-08-31T14:31:49.147043Z",
     "iopub.status.idle": "2021-08-31T14:31:49.150551Z",
     "shell.execute_reply": "2021-08-31T14:31:49.150985Z"
    },
    "papermill": {
     "duration": 0.062291,
     "end_time": "2021-08-31T14:31:49.151163",
     "exception": false,
     "start_time": "2021-08-31T14:31:49.088872",
     "status": "completed"
    },
    "tags": []
   },
   "outputs": [
    {
     "data": {
      "text/plain": [
       "{'classification__criterion': 'gini',\n",
       " 'classification__max_depth': 0.5,\n",
       " 'classification__min_samples_leaf': 1,\n",
       " 'classification__n_estimators': 100,\n",
       " 'feature_selection__k': 3}"
      ]
     },
     "execution_count": 37,
     "metadata": {},
     "output_type": "execute_result"
    }
   ],
   "source": [
    "best_clf.best_params_"
   ]
  },
  {
   "cell_type": "code",
   "execution_count": 38,
   "id": "c8880e24",
   "metadata": {
    "execution": {
     "iopub.execute_input": "2021-08-31T14:31:49.263547Z",
     "iopub.status.busy": "2021-08-31T14:31:49.262643Z",
     "iopub.status.idle": "2021-08-31T14:31:49.265823Z",
     "shell.execute_reply": "2021-08-31T14:31:49.266298Z"
    },
    "papermill": {
     "duration": 0.061624,
     "end_time": "2021-08-31T14:31:49.266458",
     "exception": false,
     "start_time": "2021-08-31T14:31:49.204834",
     "status": "completed"
    },
    "tags": []
   },
   "outputs": [
    {
     "name": "stdout",
     "output_type": "stream",
     "text": [
      "10CV accuracy: 0.5\n"
     ]
    }
   ],
   "source": [
    "acc = best_clf.best_score_\n",
    "print(\"10CV accuracy: \"+str(acc))"
   ]
  },
  {
   "cell_type": "markdown",
   "id": "f0d08b42",
   "metadata": {
    "papermill": {
     "duration": 0.053883,
     "end_time": "2021-08-31T14:31:49.374239",
     "exception": false,
     "start_time": "2021-08-31T14:31:49.320356",
     "status": "completed"
    },
    "tags": []
   },
   "source": [
    "**Testing**"
   ]
  },
  {
   "cell_type": "code",
   "execution_count": 39,
   "id": "54440819",
   "metadata": {
    "execution": {
     "iopub.execute_input": "2021-08-31T14:31:49.489396Z",
     "iopub.status.busy": "2021-08-31T14:31:49.488302Z",
     "iopub.status.idle": "2021-08-31T14:31:49.507803Z",
     "shell.execute_reply": "2021-08-31T14:31:49.507187Z"
    },
    "papermill": {
     "duration": 0.07941,
     "end_time": "2021-08-31T14:31:49.507952",
     "exception": false,
     "start_time": "2021-08-31T14:31:49.428542",
     "status": "completed"
    },
    "tags": []
   },
   "outputs": [
    {
     "name": "stdout",
     "output_type": "stream",
     "text": [
      "Test Training accuracy: 0.13193403298350825\n"
     ]
    }
   ],
   "source": [
    "yp = best_clf.predict(X_test)\n",
    "acc = sum(yp == y_test)/len(y_test)\n",
    "print(\"Test Training accuracy: \"+str(acc))"
   ]
  },
  {
   "cell_type": "code",
   "execution_count": 40,
   "id": "147a7b5f",
   "metadata": {
    "execution": {
     "iopub.execute_input": "2021-08-31T14:31:49.624628Z",
     "iopub.status.busy": "2021-08-31T14:31:49.623962Z",
     "iopub.status.idle": "2021-08-31T14:31:49.821379Z",
     "shell.execute_reply": "2021-08-31T14:31:49.820825Z"
    },
    "papermill": {
     "duration": 0.258706,
     "end_time": "2021-08-31T14:31:49.821553",
     "exception": false,
     "start_time": "2021-08-31T14:31:49.562847",
     "status": "completed"
    },
    "tags": []
   },
   "outputs": [
    {
     "data": {
      "image/png": "[encoded data removed]",
      "text/plain": [
       "<Figure size 432x288 with 2 Axes>"
      ]
     },
     "metadata": {
      "needs_background": "light"
     },
     "output_type": "display_data"
    }
   ],
   "source": [
    "from sklearn.metrics import confusion_matrix\n",
    "import matplotlib.pyplot as plt\n",
    "import seaborn as sns\n",
    "target_names = ['negative(0)', 'positive(1)']\n",
    "C = confusion_matrix(y_test,yp) \n",
    "C = C / C.astype(np.float).sum(axis=1)*100\n",
    "sns.heatmap(C, annot=True, fmt=\"f\",cmap=\"GnBu\",xticklabels=target_names, yticklabels=target_names)\n",
    "plt.ylabel(\"True Label\")\n",
    "plt.xlabel(\"Predicted Label\")\n",
    "plt.show()"
   ]
  },
  {
   "cell_type": "code",
   "execution_count": 41,
   "id": "2ff88984",
   "metadata": {
    "execution": {
     "iopub.execute_input": "2021-08-31T14:31:49.939223Z",
     "iopub.status.busy": "2021-08-31T14:31:49.938574Z",
     "iopub.status.idle": "2021-08-31T14:31:49.951436Z",
     "shell.execute_reply": "2021-08-31T14:31:49.950858Z"
    },
    "papermill": {
     "duration": 0.073822,
     "end_time": "2021-08-31T14:31:49.951606",
     "exception": false,
     "start_time": "2021-08-31T14:31:49.877784",
     "status": "completed"
    },
    "tags": []
   },
   "outputs": [
    {
     "name": "stdout",
     "output_type": "stream",
     "text": [
      "              precision    recall  f1-score   support\n",
      "\n",
      " negative(0)       0.00      0.00      0.00       579\n",
      " positive(1)       0.13      1.00      0.23        88\n",
      "\n",
      "    accuracy                           0.13       667\n",
      "   macro avg       0.07      0.50      0.12       667\n",
      "weighted avg       0.02      0.13      0.03       667\n",
      "\n"
     ]
    },
    {
     "name": "stderr",
     "output_type": "stream",
     "text": [
      "/opt/conda/lib/python3.7/site-packages/sklearn/metrics/_classification.py:1221: UndefinedMetricWarning: Precision and F-score are ill-defined and being set to 0.0 in labels with no predicted samples. Use `zero_division` parameter to control this behavior.\n",
      "  _warn_prf(average, modifier, msg_start, len(result))\n"
     ]
    }
   ],
   "source": [
    "from sklearn.metrics import classification_report\n",
    "print(classification_report(y_test,yp,target_names=target_names)) "
   ]
  },
  {
   "cell_type": "markdown",
   "id": "8961427b",
   "metadata": {
    "papermill": {
     "duration": 0.056576,
     "end_time": "2021-08-31T14:31:50.065931",
     "exception": false,
     "start_time": "2021-08-31T14:31:50.009355",
     "status": "completed"
    },
    "tags": []
   },
   "source": [
    "**Feature Selected**"
   ]
  },
  {
   "cell_type": "code",
   "execution_count": 42,
   "id": "55a17b6a",
   "metadata": {
    "execution": {
     "iopub.execute_input": "2021-08-31T14:31:50.185337Z",
     "iopub.status.busy": "2021-08-31T14:31:50.184346Z",
     "iopub.status.idle": "2021-08-31T14:31:50.187135Z",
     "shell.execute_reply": "2021-08-31T14:31:50.187644Z"
    },
    "papermill": {
     "duration": 0.065052,
     "end_time": "2021-08-31T14:31:50.187814",
     "exception": false,
     "start_time": "2021-08-31T14:31:50.122762",
     "status": "completed"
    },
    "tags": []
   },
   "outputs": [],
   "source": [
    "f = best_clf.best_estimator_.steps[-1][1].feature_importances_"
   ]
  },
  {
   "cell_type": "code",
   "execution_count": 43,
   "id": "7e8b30a4",
   "metadata": {
    "execution": {
     "iopub.execute_input": "2021-08-31T14:31:50.307983Z",
     "iopub.status.busy": "2021-08-31T14:31:50.307047Z",
     "iopub.status.idle": "2021-08-31T14:31:50.310871Z",
     "shell.execute_reply": "2021-08-31T14:31:50.311350Z"
    },
    "papermill": {
     "duration": 0.06651,
     "end_time": "2021-08-31T14:31:50.311550",
     "exception": false,
     "start_time": "2021-08-31T14:31:50.245040",
     "status": "completed"
    },
    "tags": []
   },
   "outputs": [
    {
     "data": {
      "text/plain": [
       "array([0, 1, 2])"
      ]
     },
     "execution_count": 43,
     "metadata": {},
     "output_type": "execute_result"
    }
   ],
   "source": [
    "f_idx = np.argsort(-f)\n",
    "f_idx"
   ]
  },
  {
   "cell_type": "code",
   "execution_count": 44,
   "id": "5962f901",
   "metadata": {
    "execution": {
     "iopub.execute_input": "2021-08-31T14:31:50.431793Z",
     "iopub.status.busy": "2021-08-31T14:31:50.430889Z",
     "iopub.status.idle": "2021-08-31T14:31:50.434831Z",
     "shell.execute_reply": "2021-08-31T14:31:50.434176Z"
    },
    "papermill": {
     "duration": 0.066048,
     "end_time": "2021-08-31T14:31:50.434985",
     "exception": false,
     "start_time": "2021-08-31T14:31:50.368937",
     "status": "completed"
    },
    "tags": []
   },
   "outputs": [
    {
     "data": {
      "text/plain": [
       "array(['Churn', 'AccountWeeks', 'ContractRenewal'], dtype=object)"
      ]
     },
     "execution_count": 44,
     "metadata": {},
     "output_type": "execute_result"
    }
   ],
   "source": [
    "df.columns.values[f_idx]"
   ]
  }
 ],
 "metadata": {
  "kernelspec": {
   "display_name": "Python 3",
   "language": "python",
   "name": "python3"
  },
  "language_info": {
   "codemirror_mode": {
    "name": "ipython",
    "version": 3
   },
   "file_extension": ".py",
   "mimetype": "text/x-python",
   "name": "python",
   "nbconvert_exporter": "python",
   "pygments_lexer": "ipython3",
   "version": "3.7.10"
  },
  "papermill": {
   "default_parameters": {},
   "duration": 2587.358839,
   "end_time": "2021-08-31T14:31:51.304128",
   "environment_variables": {},
   "exception": null,
   "input_path": "__notebook__.ipynb",
   "output_path": "__notebook__.ipynb",
   "parameters": {},
   "start_time": "2021-08-31T13:48:43.945289",
   "version": "2.3.3"
  }
 },
 "nbformat": 4,
 "nbformat_minor": 5
}
