{
 "cells": [
  {
   "cell_type": "code",
   "execution_count": 1,
   "id": "4e3d9c20",
   "metadata": {
    "_cell_guid": "b1076dfc-b9ad-4769-8c92-a6c4dae69d19",
    "_uuid": "8f2839f25d086af736a60e9eeb907d3b93b6e0e5",
    "execution": {
     "iopub.execute_input": "2021-09-02T06:59:07.221591Z",
     "iopub.status.busy": "2021-09-02T06:59:07.220352Z",
     "iopub.status.idle": "2021-09-02T06:59:07.243671Z",
     "shell.execute_reply": "2021-09-02T06:59:07.242968Z",
     "shell.execute_reply.started": "2021-09-01T14:03:33.736579Z"
    },
    "papermill": {
     "duration": 0.067804,
     "end_time": "2021-09-02T06:59:07.243852",
     "exception": false,
     "start_time": "2021-09-02T06:59:07.176048",
     "status": "completed"
    },
    "tags": []
   },
   "outputs": [
    {
     "name": "stdout",
     "output_type": "stream",
     "text": [
      "/kaggle/input/telecom-churn/telecom_churn.csv\n"
     ]
    }
   ],
   "source": [
    "# This Python 3 environment comes with many helpful analytics libraries installed\n",
    "# It is defined by the kaggle/python Docker image: https://github.com/kaggle/docker-python\n",
    "# For example, here's several helpful packages to load\n",
    "\n",
    "import numpy as np # linear algebra\n",
    "import pandas as pd # data processing, CSV file I/O (e.g. pd.read_csv)\n",
    "\n",
    "# Input data files are available in the read-only \"../input/\" directory\n",
    "# For example, running this (by clicking run or pressing Shift+Enter) will list all files under the input directory\n",
    "\n",
    "import os\n",
    "for dirname, _, filenames in os.walk('/kaggle/input'):\n",
    "    for filename in filenames:\n",
    "        print(os.path.join(dirname, filename))\n",
    "\n",
    "# You can write up to 20GB to the current directory (/kaggle/working/) that gets preserved as output when you create a version using \"Save & Run All\" \n",
    "# You can also write temporary files to /kaggle/temp/, but they won't be saved outside of the current session"
   ]
  },
  {
   "cell_type": "markdown",
   "id": "c45402b8",
   "metadata": {
    "papermill": {
     "duration": 0.041847,
     "end_time": "2021-09-02T06:59:07.327123",
     "exception": false,
     "start_time": "2021-09-02T06:59:07.285276",
     "status": "completed"
    },
    "tags": []
   },
   "source": [
    "# **Telecom-churn**"
   ]
  },
  {
   "cell_type": "markdown",
   "id": "ecf8797b",
   "metadata": {
    "papermill": {
     "duration": 0.041372,
     "end_time": "2021-09-02T06:59:07.408904",
     "exception": false,
     "start_time": "2021-09-02T06:59:07.367532",
     "status": "completed"
    },
    "tags": []
   },
   "source": [
    "**Cleansing**"
   ]
  },
  {
   "cell_type": "code",
   "execution_count": 2,
   "id": "e01d1e69",
   "metadata": {
    "execution": {
     "iopub.execute_input": "2021-09-02T06:59:07.493677Z",
     "iopub.status.busy": "2021-09-02T06:59:07.492992Z",
     "iopub.status.idle": "2021-09-02T06:59:07.605998Z",
     "shell.execute_reply": "2021-09-02T06:59:07.604698Z",
     "shell.execute_reply.started": "2021-09-01T14:03:33.765484Z"
    },
    "papermill": {
     "duration": 0.157661,
     "end_time": "2021-09-02T06:59:07.606169",
     "exception": false,
     "start_time": "2021-09-02T06:59:07.448508",
     "status": "completed"
    },
    "tags": []
   },
   "outputs": [],
   "source": [
    "df = pd.read_csv('../input/telecom-churn/telecom_churn.csv')"
   ]
  },
  {
   "cell_type": "code",
   "execution_count": 3,
   "id": "0a6c6f55",
   "metadata": {
    "execution": {
     "iopub.execute_input": "2021-09-02T06:59:07.694711Z",
     "iopub.status.busy": "2021-09-02T06:59:07.693816Z",
     "iopub.status.idle": "2021-09-02T06:59:07.697172Z",
     "shell.execute_reply": "2021-09-02T06:59:07.697680Z",
     "shell.execute_reply.started": "2021-09-01T14:03:33.886128Z"
    },
    "papermill": {
     "duration": 0.051224,
     "end_time": "2021-09-02T06:59:07.697858",
     "exception": false,
     "start_time": "2021-09-02T06:59:07.646634",
     "status": "completed"
    },
    "tags": []
   },
   "outputs": [
    {
     "data": {
      "text/plain": [
       "Index(['Churn', 'AccountWeeks', 'ContractRenewal', 'DataPlan', 'DataUsage',\n",
       "       'CustServCalls', 'DayMins', 'DayCalls', 'MonthlyCharge', 'OverageFee',\n",
       "       'RoamMins'],\n",
       "      dtype='object')"
      ]
     },
     "execution_count": 3,
     "metadata": {},
     "output_type": "execute_result"
    }
   ],
   "source": [
    "df.columns"
   ]
  },
  {
   "cell_type": "code",
   "execution_count": 4,
   "id": "b731f0d2",
   "metadata": {
    "execution": {
     "iopub.execute_input": "2021-09-02T06:59:07.780827Z",
     "iopub.status.busy": "2021-09-02T06:59:07.780036Z",
     "iopub.status.idle": "2021-09-02T06:59:07.796620Z",
     "shell.execute_reply": "2021-09-02T06:59:07.795965Z",
     "shell.execute_reply.started": "2021-09-01T14:03:33.898346Z"
    },
    "papermill": {
     "duration": 0.059082,
     "end_time": "2021-09-02T06:59:07.796775",
     "exception": false,
     "start_time": "2021-09-02T06:59:07.737693",
     "status": "completed"
    },
    "tags": []
   },
   "outputs": [
    {
     "data": {
      "text/plain": [
       "Churn              False\n",
       "AccountWeeks       False\n",
       "ContractRenewal    False\n",
       "DataPlan           False\n",
       "DataUsage          False\n",
       "CustServCalls      False\n",
       "DayMins            False\n",
       "DayCalls           False\n",
       "MonthlyCharge      False\n",
       "OverageFee         False\n",
       "RoamMins           False\n",
       "dtype: bool"
      ]
     },
     "execution_count": 4,
     "metadata": {},
     "output_type": "execute_result"
    }
   ],
   "source": [
    "df.isnull().any()"
   ]
  },
  {
   "cell_type": "markdown",
   "id": "199ab3ba",
   "metadata": {
    "papermill": {
     "duration": 0.040675,
     "end_time": "2021-09-02T06:59:07.879433",
     "exception": false,
     "start_time": "2021-09-02T06:59:07.838758",
     "status": "completed"
    },
    "tags": []
   },
   "source": [
    "**Preproessing**"
   ]
  },
  {
   "cell_type": "code",
   "execution_count": 5,
   "id": "49a4b953",
   "metadata": {
    "execution": {
     "iopub.execute_input": "2021-09-02T06:59:07.975973Z",
     "iopub.status.busy": "2021-09-02T06:59:07.973902Z",
     "iopub.status.idle": "2021-09-02T06:59:08.024901Z",
     "shell.execute_reply": "2021-09-02T06:59:08.023487Z",
     "shell.execute_reply.started": "2021-09-01T14:03:33.921661Z"
    },
    "papermill": {
     "duration": 0.104975,
     "end_time": "2021-09-02T06:59:08.025077",
     "exception": false,
     "start_time": "2021-09-02T06:59:07.920102",
     "status": "completed"
    },
    "tags": []
   },
   "outputs": [
    {
     "data": {
      "text/html": [
       "<div>\n",
       "<style scoped>\n",
       "    .dataframe tbody tr th:only-of-type {\n",
       "        vertical-align: middle;\n",
       "    }\n",
       "\n",
       "    .dataframe tbody tr th {\n",
       "        vertical-align: top;\n",
       "    }\n",
       "\n",
       "    .dataframe thead th {\n",
       "        text-align: right;\n",
       "    }\n",
       "</style>\n",
       "<table border=\"1\" class=\"dataframe\">\n",
       "  <thead>\n",
       "    <tr style=\"text-align: right;\">\n",
       "      <th></th>\n",
       "      <th>Churn</th>\n",
       "      <th>AccountWeeks</th>\n",
       "      <th>ContractRenewal</th>\n",
       "      <th>DataPlan</th>\n",
       "      <th>DataUsage</th>\n",
       "      <th>CustServCalls</th>\n",
       "      <th>DayMins</th>\n",
       "      <th>DayCalls</th>\n",
       "      <th>MonthlyCharge</th>\n",
       "      <th>OverageFee</th>\n",
       "      <th>RoamMins</th>\n",
       "    </tr>\n",
       "  </thead>\n",
       "  <tbody>\n",
       "    <tr>\n",
       "      <th>count</th>\n",
       "      <td>3333.000000</td>\n",
       "      <td>3333.000000</td>\n",
       "      <td>3333.000000</td>\n",
       "      <td>3333.000000</td>\n",
       "      <td>3333.000000</td>\n",
       "      <td>3333.000000</td>\n",
       "      <td>3333.000000</td>\n",
       "      <td>3333.000000</td>\n",
       "      <td>3333.000000</td>\n",
       "      <td>3333.000000</td>\n",
       "      <td>3333.000000</td>\n",
       "    </tr>\n",
       "    <tr>\n",
       "      <th>mean</th>\n",
       "      <td>0.144914</td>\n",
       "      <td>101.064806</td>\n",
       "      <td>0.903090</td>\n",
       "      <td>0.276628</td>\n",
       "      <td>0.816475</td>\n",
       "      <td>1.562856</td>\n",
       "      <td>179.775098</td>\n",
       "      <td>100.435644</td>\n",
       "      <td>56.305161</td>\n",
       "      <td>10.051488</td>\n",
       "      <td>10.237294</td>\n",
       "    </tr>\n",
       "    <tr>\n",
       "      <th>std</th>\n",
       "      <td>0.352067</td>\n",
       "      <td>39.822106</td>\n",
       "      <td>0.295879</td>\n",
       "      <td>0.447398</td>\n",
       "      <td>1.272668</td>\n",
       "      <td>1.315491</td>\n",
       "      <td>54.467389</td>\n",
       "      <td>20.069084</td>\n",
       "      <td>16.426032</td>\n",
       "      <td>2.535712</td>\n",
       "      <td>2.791840</td>\n",
       "    </tr>\n",
       "    <tr>\n",
       "      <th>min</th>\n",
       "      <td>0.000000</td>\n",
       "      <td>1.000000</td>\n",
       "      <td>0.000000</td>\n",
       "      <td>0.000000</td>\n",
       "      <td>0.000000</td>\n",
       "      <td>0.000000</td>\n",
       "      <td>0.000000</td>\n",
       "      <td>0.000000</td>\n",
       "      <td>14.000000</td>\n",
       "      <td>0.000000</td>\n",
       "      <td>0.000000</td>\n",
       "    </tr>\n",
       "    <tr>\n",
       "      <th>25%</th>\n",
       "      <td>0.000000</td>\n",
       "      <td>74.000000</td>\n",
       "      <td>1.000000</td>\n",
       "      <td>0.000000</td>\n",
       "      <td>0.000000</td>\n",
       "      <td>1.000000</td>\n",
       "      <td>143.700000</td>\n",
       "      <td>87.000000</td>\n",
       "      <td>45.000000</td>\n",
       "      <td>8.330000</td>\n",
       "      <td>8.500000</td>\n",
       "    </tr>\n",
       "    <tr>\n",
       "      <th>50%</th>\n",
       "      <td>0.000000</td>\n",
       "      <td>101.000000</td>\n",
       "      <td>1.000000</td>\n",
       "      <td>0.000000</td>\n",
       "      <td>0.000000</td>\n",
       "      <td>1.000000</td>\n",
       "      <td>179.400000</td>\n",
       "      <td>101.000000</td>\n",
       "      <td>53.500000</td>\n",
       "      <td>10.070000</td>\n",
       "      <td>10.300000</td>\n",
       "    </tr>\n",
       "    <tr>\n",
       "      <th>75%</th>\n",
       "      <td>0.000000</td>\n",
       "      <td>127.000000</td>\n",
       "      <td>1.000000</td>\n",
       "      <td>1.000000</td>\n",
       "      <td>1.780000</td>\n",
       "      <td>2.000000</td>\n",
       "      <td>216.400000</td>\n",
       "      <td>114.000000</td>\n",
       "      <td>66.200000</td>\n",
       "      <td>11.770000</td>\n",
       "      <td>12.100000</td>\n",
       "    </tr>\n",
       "    <tr>\n",
       "      <th>max</th>\n",
       "      <td>1.000000</td>\n",
       "      <td>243.000000</td>\n",
       "      <td>1.000000</td>\n",
       "      <td>1.000000</td>\n",
       "      <td>5.400000</td>\n",
       "      <td>9.000000</td>\n",
       "      <td>350.800000</td>\n",
       "      <td>165.000000</td>\n",
       "      <td>111.300000</td>\n",
       "      <td>18.190000</td>\n",
       "      <td>20.000000</td>\n",
       "    </tr>\n",
       "  </tbody>\n",
       "</table>\n",
       "</div>"
      ],
      "text/plain": [
       "             Churn  AccountWeeks  ContractRenewal     DataPlan    DataUsage  \\\n",
       "count  3333.000000   3333.000000      3333.000000  3333.000000  3333.000000   \n",
       "mean      0.144914    101.064806         0.903090     0.276628     0.816475   \n",
       "std       0.352067     39.822106         0.295879     0.447398     1.272668   \n",
       "min       0.000000      1.000000         0.000000     0.000000     0.000000   \n",
       "25%       0.000000     74.000000         1.000000     0.000000     0.000000   \n",
       "50%       0.000000    101.000000         1.000000     0.000000     0.000000   \n",
       "75%       0.000000    127.000000         1.000000     1.000000     1.780000   \n",
       "max       1.000000    243.000000         1.000000     1.000000     5.400000   \n",
       "\n",
       "       CustServCalls      DayMins     DayCalls  MonthlyCharge   OverageFee  \\\n",
       "count    3333.000000  3333.000000  3333.000000    3333.000000  3333.000000   \n",
       "mean        1.562856   179.775098   100.435644      56.305161    10.051488   \n",
       "std         1.315491    54.467389    20.069084      16.426032     2.535712   \n",
       "min         0.000000     0.000000     0.000000      14.000000     0.000000   \n",
       "25%         1.000000   143.700000    87.000000      45.000000     8.330000   \n",
       "50%         1.000000   179.400000   101.000000      53.500000    10.070000   \n",
       "75%         2.000000   216.400000   114.000000      66.200000    11.770000   \n",
       "max         9.000000   350.800000   165.000000     111.300000    18.190000   \n",
       "\n",
       "          RoamMins  \n",
       "count  3333.000000  \n",
       "mean     10.237294  \n",
       "std       2.791840  \n",
       "min       0.000000  \n",
       "25%       8.500000  \n",
       "50%      10.300000  \n",
       "75%      12.100000  \n",
       "max      20.000000  "
      ]
     },
     "execution_count": 5,
     "metadata": {},
     "output_type": "execute_result"
    }
   ],
   "source": [
    "df.describe() #ดูภาพรวมของข้อมูลหาความผิดปกติ"
   ]
  },
  {
   "cell_type": "markdown",
   "id": "c30efee4",
   "metadata": {
    "papermill": {
     "duration": 0.042979,
     "end_time": "2021-09-02T06:59:08.109615",
     "exception": false,
     "start_time": "2021-09-02T06:59:08.066636",
     "status": "completed"
    },
    "tags": []
   },
   "source": [
    "เช็คจาก mean min max และ percentile จะเห็นว่าข้อมูลเบ้ขวามากๆ / ถ้าค่า std เป็น 0 แสดงว่าไม่มีความแปรปรวนเลย = ข้อมูลเหมือนกันหมด"
   ]
  },
  {
   "cell_type": "code",
   "execution_count": 6,
   "id": "ba3d6b3f",
   "metadata": {
    "execution": {
     "iopub.execute_input": "2021-09-02T06:59:08.201816Z",
     "iopub.status.busy": "2021-09-02T06:59:08.201109Z",
     "iopub.status.idle": "2021-09-02T06:59:08.204637Z",
     "shell.execute_reply": "2021-09-02T06:59:08.204004Z",
     "shell.execute_reply.started": "2021-09-01T14:03:33.981309Z"
    },
    "papermill": {
     "duration": 0.051503,
     "end_time": "2021-09-02T06:59:08.204858",
     "exception": false,
     "start_time": "2021-09-02T06:59:08.153355",
     "status": "completed"
    },
    "tags": []
   },
   "outputs": [],
   "source": [
    "y = df['Churn'].values \n",
    "X = df.drop(['Churn'],axis = 1).values"
   ]
  },
  {
   "cell_type": "code",
   "execution_count": 7,
   "id": "644ecc6b",
   "metadata": {
    "execution": {
     "iopub.execute_input": "2021-09-02T06:59:08.294421Z",
     "iopub.status.busy": "2021-09-02T06:59:08.293640Z",
     "iopub.status.idle": "2021-09-02T06:59:08.298539Z",
     "shell.execute_reply": "2021-09-02T06:59:08.299002Z",
     "shell.execute_reply.started": "2021-09-01T14:03:33.989241Z"
    },
    "papermill": {
     "duration": 0.049805,
     "end_time": "2021-09-02T06:59:08.299179",
     "exception": false,
     "start_time": "2021-09-02T06:59:08.249374",
     "status": "completed"
    },
    "tags": []
   },
   "outputs": [
    {
     "data": {
      "text/plain": [
       "3333"
      ]
     },
     "execution_count": 7,
     "metadata": {},
     "output_type": "execute_result"
    }
   ],
   "source": [
    "len(y)"
   ]
  },
  {
   "cell_type": "code",
   "execution_count": 8,
   "id": "92482e0c",
   "metadata": {
    "execution": {
     "iopub.execute_input": "2021-09-02T06:59:08.387970Z",
     "iopub.status.busy": "2021-09-02T06:59:08.387116Z",
     "iopub.status.idle": "2021-09-02T06:59:08.392519Z",
     "shell.execute_reply": "2021-09-02T06:59:08.393043Z",
     "shell.execute_reply.started": "2021-09-01T14:03:34.005377Z"
    },
    "papermill": {
     "duration": 0.051704,
     "end_time": "2021-09-02T06:59:08.393217",
     "exception": false,
     "start_time": "2021-09-02T06:59:08.341513",
     "status": "completed"
    },
    "tags": []
   },
   "outputs": [
    {
     "data": {
      "text/plain": [
       "483"
      ]
     },
     "execution_count": 8,
     "metadata": {},
     "output_type": "execute_result"
    }
   ],
   "source": [
    "y.sum() #ค่าที่ label เป็น 0"
   ]
  },
  {
   "cell_type": "code",
   "execution_count": 9,
   "id": "623d3591",
   "metadata": {
    "execution": {
     "iopub.execute_input": "2021-09-02T06:59:08.485395Z",
     "iopub.status.busy": "2021-09-02T06:59:08.484696Z",
     "iopub.status.idle": "2021-09-02T06:59:08.490478Z",
     "shell.execute_reply": "2021-09-02T06:59:08.490996Z",
     "shell.execute_reply.started": "2021-09-01T14:03:34.018116Z"
    },
    "papermill": {
     "duration": 0.053723,
     "end_time": "2021-09-02T06:59:08.491164",
     "exception": false,
     "start_time": "2021-09-02T06:59:08.437441",
     "status": "completed"
    },
    "tags": []
   },
   "outputs": [
    {
     "data": {
      "text/plain": [
       "2850"
      ]
     },
     "execution_count": 9,
     "metadata": {},
     "output_type": "execute_result"
    }
   ],
   "source": [
    "len(y) - y.sum() #ค่าที่ label เป็น 0"
   ]
  },
  {
   "cell_type": "markdown",
   "id": "dff1ab53",
   "metadata": {
    "papermill": {
     "duration": 0.042217,
     "end_time": "2021-09-02T06:59:08.575842",
     "exception": false,
     "start_time": "2021-09-02T06:59:08.533625",
     "status": "completed"
    },
    "tags": []
   },
   "source": [
    "1 คือลูกค้าย้ายค่าย 0 คือลูกค้าอยู่บริการเดิม"
   ]
  },
  {
   "cell_type": "code",
   "execution_count": 10,
   "id": "cea6985b",
   "metadata": {
    "execution": {
     "iopub.execute_input": "2021-09-02T06:59:08.668390Z",
     "iopub.status.busy": "2021-09-02T06:59:08.667709Z",
     "iopub.status.idle": "2021-09-02T06:59:09.720181Z",
     "shell.execute_reply": "2021-09-02T06:59:09.719578Z",
     "shell.execute_reply.started": "2021-09-01T14:03:34.03413Z"
    },
    "papermill": {
     "duration": 1.098394,
     "end_time": "2021-09-02T06:59:09.720371",
     "exception": false,
     "start_time": "2021-09-02T06:59:08.621977",
     "status": "completed"
    },
    "tags": []
   },
   "outputs": [],
   "source": [
    "from sklearn.model_selection import train_test_split \n",
    "X_train, X_test, y_train, y_test = train_test_split(X,y,test_size=0.2,random_state=0)"
   ]
  },
  {
   "cell_type": "code",
   "execution_count": 11,
   "id": "50426e24",
   "metadata": {
    "execution": {
     "iopub.execute_input": "2021-09-02T06:59:09.809898Z",
     "iopub.status.busy": "2021-09-02T06:59:09.809206Z",
     "iopub.status.idle": "2021-09-02T06:59:09.814119Z",
     "shell.execute_reply": "2021-09-02T06:59:09.814727Z",
     "shell.execute_reply.started": "2021-09-01T14:03:35.036337Z"
    },
    "papermill": {
     "duration": 0.052159,
     "end_time": "2021-09-02T06:59:09.814907",
     "exception": false,
     "start_time": "2021-09-02T06:59:09.762748",
     "status": "completed"
    },
    "tags": []
   },
   "outputs": [
    {
     "data": {
      "text/plain": [
       "(2666, 10)"
      ]
     },
     "execution_count": 11,
     "metadata": {},
     "output_type": "execute_result"
    }
   ],
   "source": [
    "X_train.shape"
   ]
  },
  {
   "cell_type": "code",
   "execution_count": 12,
   "id": "d5fbba75",
   "metadata": {
    "execution": {
     "iopub.execute_input": "2021-09-02T06:59:09.902746Z",
     "iopub.status.busy": "2021-09-02T06:59:09.902048Z",
     "iopub.status.idle": "2021-09-02T06:59:09.907267Z",
     "shell.execute_reply": "2021-09-02T06:59:09.907819Z",
     "shell.execute_reply.started": "2021-09-01T14:03:35.046095Z"
    },
    "papermill": {
     "duration": 0.050708,
     "end_time": "2021-09-02T06:59:09.907994",
     "exception": false,
     "start_time": "2021-09-02T06:59:09.857286",
     "status": "completed"
    },
    "tags": []
   },
   "outputs": [
    {
     "data": {
      "text/plain": [
       "(667, 10)"
      ]
     },
     "execution_count": 12,
     "metadata": {},
     "output_type": "execute_result"
    }
   ],
   "source": [
    "X_test.shape"
   ]
  },
  {
   "cell_type": "code",
   "execution_count": 13,
   "id": "db66e18c",
   "metadata": {
    "execution": {
     "iopub.execute_input": "2021-09-02T06:59:09.998915Z",
     "iopub.status.busy": "2021-09-02T06:59:09.998143Z",
     "iopub.status.idle": "2021-09-02T06:59:10.004017Z",
     "shell.execute_reply": "2021-09-02T06:59:10.004660Z",
     "shell.execute_reply.started": "2021-09-01T14:03:35.061984Z"
    },
    "papermill": {
     "duration": 0.054242,
     "end_time": "2021-09-02T06:59:10.004841",
     "exception": false,
     "start_time": "2021-09-02T06:59:09.950599",
     "status": "completed"
    },
    "tags": []
   },
   "outputs": [
    {
     "data": {
      "text/plain": [
       "(2666,)"
      ]
     },
     "execution_count": 13,
     "metadata": {},
     "output_type": "execute_result"
    }
   ],
   "source": [
    "y_train.shape"
   ]
  },
  {
   "cell_type": "code",
   "execution_count": 14,
   "id": "5c11763b",
   "metadata": {
    "execution": {
     "iopub.execute_input": "2021-09-02T06:59:10.095634Z",
     "iopub.status.busy": "2021-09-02T06:59:10.094989Z",
     "iopub.status.idle": "2021-09-02T06:59:10.101893Z",
     "shell.execute_reply": "2021-09-02T06:59:10.101259Z",
     "shell.execute_reply.started": "2021-09-01T14:03:35.077005Z"
    },
    "papermill": {
     "duration": 0.053353,
     "end_time": "2021-09-02T06:59:10.102032",
     "exception": false,
     "start_time": "2021-09-02T06:59:10.048679",
     "status": "completed"
    },
    "tags": []
   },
   "outputs": [
    {
     "data": {
      "text/plain": [
       "(667,)"
      ]
     },
     "execution_count": 14,
     "metadata": {},
     "output_type": "execute_result"
    }
   ],
   "source": [
    "y_test.shape"
   ]
  },
  {
   "cell_type": "code",
   "execution_count": 15,
   "id": "d1330878",
   "metadata": {
    "execution": {
     "iopub.execute_input": "2021-09-02T06:59:10.196376Z",
     "iopub.status.busy": "2021-09-02T06:59:10.195474Z",
     "iopub.status.idle": "2021-09-02T06:59:10.199794Z",
     "shell.execute_reply": "2021-09-02T06:59:10.199317Z",
     "shell.execute_reply.started": "2021-09-01T14:03:35.089999Z"
    },
    "papermill": {
     "duration": 0.052811,
     "end_time": "2021-09-02T06:59:10.199943",
     "exception": false,
     "start_time": "2021-09-02T06:59:10.147132",
     "status": "completed"
    },
    "tags": []
   },
   "outputs": [
    {
     "data": {
      "text/plain": [
       "395"
      ]
     },
     "execution_count": 15,
     "metadata": {},
     "output_type": "execute_result"
    }
   ],
   "source": [
    "y_train.sum() #label = 1"
   ]
  },
  {
   "cell_type": "code",
   "execution_count": 16,
   "id": "19071236",
   "metadata": {
    "execution": {
     "iopub.execute_input": "2021-09-02T06:59:10.294397Z",
     "iopub.status.busy": "2021-09-02T06:59:10.293076Z",
     "iopub.status.idle": "2021-09-02T06:59:10.298732Z",
     "shell.execute_reply": "2021-09-02T06:59:10.299611Z",
     "shell.execute_reply.started": "2021-09-01T14:03:35.10475Z"
    },
    "papermill": {
     "duration": 0.056618,
     "end_time": "2021-09-02T06:59:10.299838",
     "exception": false,
     "start_time": "2021-09-02T06:59:10.243220",
     "status": "completed"
    },
    "tags": []
   },
   "outputs": [
    {
     "data": {
      "text/plain": [
       "2271"
      ]
     },
     "execution_count": 16,
     "metadata": {},
     "output_type": "execute_result"
    }
   ],
   "source": [
    "len(y_train) - y_train.sum() #label = 0"
   ]
  },
  {
   "cell_type": "markdown",
   "id": "49507849",
   "metadata": {
    "papermill": {
     "duration": 0.043689,
     "end_time": "2021-09-02T06:59:10.387113",
     "exception": false,
     "start_time": "2021-09-02T06:59:10.343424",
     "status": "completed"
    },
    "tags": []
   },
   "source": [
    "# **Training**"
   ]
  },
  {
   "cell_type": "markdown",
   "id": "1718d3d4",
   "metadata": {
    "papermill": {
     "duration": 0.043088,
     "end_time": "2021-09-02T06:59:10.473600",
     "exception": false,
     "start_time": "2021-09-02T06:59:10.430512",
     "status": "completed"
    },
    "tags": []
   },
   "source": [
    "**RandomForest**"
   ]
  },
  {
   "cell_type": "code",
   "execution_count": 17,
   "id": "650fc516",
   "metadata": {
    "execution": {
     "iopub.execute_input": "2021-09-02T06:59:10.568335Z",
     "iopub.status.busy": "2021-09-02T06:59:10.567653Z",
     "iopub.status.idle": "2021-09-02T06:59:54.887704Z",
     "shell.execute_reply": "2021-09-02T06:59:54.888193Z",
     "shell.execute_reply.started": "2021-09-01T14:03:35.118954Z"
    },
    "papermill": {
     "duration": 44.371351,
     "end_time": "2021-09-02T06:59:54.888378",
     "exception": false,
     "start_time": "2021-09-02T06:59:10.517027",
     "status": "completed"
    },
    "tags": []
   },
   "outputs": [
    {
     "data": {
      "text/plain": [
       "GridSearchCV(cv=10,\n",
       "             estimator=Pipeline(steps=[('scaler', MinMaxScaler()),\n",
       "                                       ('feature_selection', SelectKBest()),\n",
       "                                       ('classification',\n",
       "                                        RandomForestClassifier(random_state=0))]),\n",
       "             param_grid={'classification__n_estimators': [10, 20, 50, 100, 200],\n",
       "                         'feature_selection__k': [3, 5, 7]})"
      ]
     },
     "execution_count": 17,
     "metadata": {},
     "output_type": "execute_result"
    }
   ],
   "source": [
    "from sklearn.preprocessing import MinMaxScaler #normalization\n",
    "from sklearn.ensemble import RandomForestClassifier #classifier\n",
    "from sklearn.model_selection import GridSearchCV \n",
    "from sklearn.pipeline import Pipeline\n",
    "\n",
    "#from imblearn.under_sampling import RandomUnderSampler #imbalanced\n",
    "\n",
    "from sklearn.feature_selection import SelectKBest\n",
    "from sklearn.feature_selection import f_classif\n",
    "\n",
    "#Imbalanced\n",
    "#undersample = RandomUnderSampler(sampling_strategy='majority') \n",
    "#X_res, y_res = undersample.fit_resample(X_train, y_train)\n",
    "\n",
    "#Pipeline\n",
    "clf = Pipeline([ \n",
    "    ('scaler',MinMaxScaler(feature_range=(0,1))), #normalization\n",
    "    ('feature_selection',SelectKBest(f_classif)), #select feature\n",
    "    ('classification',RandomForestClassifier(random_state=0))#classifier\n",
    "])\n",
    "\n",
    "\n",
    "#Tune GridSearchCV\n",
    "params = { \n",
    "    'feature_selection__k':[3,5,7],\n",
    "    'classification__n_estimators': [10,20,50,100,200],\n",
    "}\n",
    "best_clf = GridSearchCV(clf, params, cv=10)\n",
    "\n",
    "best_clf.fit(X_train, y_train)"
   ]
  },
  {
   "cell_type": "code",
   "execution_count": 18,
   "id": "f1e938fa",
   "metadata": {
    "execution": {
     "iopub.execute_input": "2021-09-02T06:59:54.979254Z",
     "iopub.status.busy": "2021-09-02T06:59:54.978601Z",
     "iopub.status.idle": "2021-09-02T06:59:54.984506Z",
     "shell.execute_reply": "2021-09-02T06:59:54.983949Z",
     "shell.execute_reply.started": "2021-09-01T14:04:20.24368Z"
    },
    "papermill": {
     "duration": 0.052602,
     "end_time": "2021-09-02T06:59:54.984640",
     "exception": false,
     "start_time": "2021-09-02T06:59:54.932038",
     "status": "completed"
    },
    "tags": []
   },
   "outputs": [
    {
     "name": "stdout",
     "output_type": "stream",
     "text": [
      "10CV accuracy: 0.9227408408662103\n"
     ]
    }
   ],
   "source": [
    "acc = best_clf.best_score_\n",
    "print(\"10CV accuracy: \"+str(acc))"
   ]
  },
  {
   "cell_type": "code",
   "execution_count": 19,
   "id": "54ac4327",
   "metadata": {
    "execution": {
     "iopub.execute_input": "2021-09-02T06:59:55.081617Z",
     "iopub.status.busy": "2021-09-02T06:59:55.080926Z",
     "iopub.status.idle": "2021-09-02T06:59:55.085163Z",
     "shell.execute_reply": "2021-09-02T06:59:55.084638Z",
     "shell.execute_reply.started": "2021-09-01T14:04:20.252179Z"
    },
    "papermill": {
     "duration": 0.05369,
     "end_time": "2021-09-02T06:59:55.085317",
     "exception": false,
     "start_time": "2021-09-02T06:59:55.031627",
     "status": "completed"
    },
    "tags": []
   },
   "outputs": [
    {
     "data": {
      "text/plain": [
       "{'classification__n_estimators': 200, 'feature_selection__k': 7}"
      ]
     },
     "execution_count": 19,
     "metadata": {},
     "output_type": "execute_result"
    }
   ],
   "source": [
    "best_clf.best_params_"
   ]
  },
  {
   "cell_type": "code",
   "execution_count": 20,
   "id": "c16ed21f",
   "metadata": {
    "execution": {
     "iopub.execute_input": "2021-09-02T06:59:55.182451Z",
     "iopub.status.busy": "2021-09-02T06:59:55.181740Z",
     "iopub.status.idle": "2021-09-02T06:59:55.228803Z",
     "shell.execute_reply": "2021-09-02T06:59:55.227807Z",
     "shell.execute_reply.started": "2021-09-01T14:04:20.266693Z"
    },
    "papermill": {
     "duration": 0.097852,
     "end_time": "2021-09-02T06:59:55.228960",
     "exception": false,
     "start_time": "2021-09-02T06:59:55.131108",
     "status": "completed"
    },
    "tags": []
   },
   "outputs": [
    {
     "name": "stdout",
     "output_type": "stream",
     "text": [
      "Test Training accuracy: 0.9265367316341829\n"
     ]
    }
   ],
   "source": [
    "yp = best_clf.predict(X_test)\n",
    "acc = sum(yp == y_test)/len(y_test)\n",
    "print(\"Test Training accuracy: \"+str(acc))"
   ]
  },
  {
   "cell_type": "code",
   "execution_count": 21,
   "id": "9bab01e8",
   "metadata": {
    "execution": {
     "iopub.execute_input": "2021-09-02T06:59:55.326222Z",
     "iopub.status.busy": "2021-09-02T06:59:55.325498Z",
     "iopub.status.idle": "2021-09-02T06:59:55.683647Z",
     "shell.execute_reply": "2021-09-02T06:59:55.684107Z",
     "shell.execute_reply.started": "2021-09-01T14:04:20.323098Z"
    },
    "papermill": {
     "duration": 0.410217,
     "end_time": "2021-09-02T06:59:55.684294",
     "exception": false,
     "start_time": "2021-09-02T06:59:55.274077",
     "status": "completed"
    },
    "tags": []
   },
   "outputs": [
    {
     "data": {
      "image/png": "[encoded data removed]",
      "text/plain": [
       "<Figure size 432x288 with 2 Axes>"
      ]
     },
     "metadata": {
      "needs_background": "light"
     },
     "output_type": "display_data"
    }
   ],
   "source": [
    "from sklearn.metrics import confusion_matrix\n",
    "import matplotlib.pyplot as plt\n",
    "import seaborn as sns\n",
    "target_names = ['negative(0)', 'positive(1)']\n",
    "C = confusion_matrix(y_test,yp) \n",
    "C = C / C.astype(np.float).sum(axis=1)*100\n",
    "sns.heatmap(C, annot=True, fmt=\"f\",cmap=\"GnBu\",xticklabels=target_names, yticklabels=target_names)\n",
    "plt.ylabel(\"True Label\")\n",
    "plt.xlabel(\"Predicted Label\")\n",
    "plt.show()"
   ]
  },
  {
   "cell_type": "code",
   "execution_count": 22,
   "id": "24a3d934",
   "metadata": {
    "execution": {
     "iopub.execute_input": "2021-09-02T06:59:55.778958Z",
     "iopub.status.busy": "2021-09-02T06:59:55.778325Z",
     "iopub.status.idle": "2021-09-02T06:59:55.788719Z",
     "shell.execute_reply": "2021-09-02T06:59:55.789738Z",
     "shell.execute_reply.started": "2021-09-01T14:04:20.70005Z"
    },
    "papermill": {
     "duration": 0.059956,
     "end_time": "2021-09-02T06:59:55.790050",
     "exception": false,
     "start_time": "2021-09-02T06:59:55.730094",
     "status": "completed"
    },
    "tags": []
   },
   "outputs": [
    {
     "name": "stdout",
     "output_type": "stream",
     "text": [
      "              precision    recall  f1-score   support\n",
      "\n",
      " negative(0)       0.95      0.97      0.96       579\n",
      " positive(1)       0.75      0.67      0.71        88\n",
      "\n",
      "    accuracy                           0.93       667\n",
      "   macro avg       0.85      0.82      0.83       667\n",
      "weighted avg       0.92      0.93      0.92       667\n",
      "\n"
     ]
    }
   ],
   "source": [
    "from sklearn.metrics import classification_report\n",
    "print(classification_report(y_test,yp,target_names=target_names)) "
   ]
  },
  {
   "cell_type": "markdown",
   "id": "f839d28e",
   "metadata": {
    "papermill": {
     "duration": 0.048028,
     "end_time": "2021-09-02T06:59:55.885225",
     "exception": false,
     "start_time": "2021-09-02T06:59:55.837197",
     "status": "completed"
    },
    "tags": []
   },
   "source": [
    "_________________________________________________________________________________"
   ]
  },
  {
   "cell_type": "markdown",
   "id": "69fb9744",
   "metadata": {
    "papermill": {
     "duration": 0.045848,
     "end_time": "2021-09-02T06:59:55.977950",
     "exception": false,
     "start_time": "2021-09-02T06:59:55.932102",
     "status": "completed"
    },
    "tags": []
   },
   "source": [
    "**SVC**"
   ]
  },
  {
   "cell_type": "code",
   "execution_count": 23,
   "id": "2abf735d",
   "metadata": {
    "execution": {
     "iopub.execute_input": "2021-09-02T06:59:56.077375Z",
     "iopub.status.busy": "2021-09-02T06:59:56.076728Z",
     "iopub.status.idle": "2021-09-02T07:03:12.399049Z",
     "shell.execute_reply": "2021-09-02T07:03:12.399578Z"
    },
    "papermill": {
     "duration": 196.373473,
     "end_time": "2021-09-02T07:03:12.399769",
     "exception": false,
     "start_time": "2021-09-02T06:59:56.026296",
     "status": "completed"
    },
    "tags": []
   },
   "outputs": [
    {
     "data": {
      "text/plain": [
       "GridSearchCV(cv=10,\n",
       "             estimator=Pipeline(steps=[('scaler', MinMaxScaler()),\n",
       "                                       ('feature_selection', SelectKBest()),\n",
       "                                       ('classification',\n",
       "                                        SVC(random_state=0))]),\n",
       "             param_grid={'classification__C': [1, 2, 4, 8, 16, 32],\n",
       "                         'classification__gamma': [0.0625, 0.0125, 0.025, 0.05,\n",
       "                                                   0.01, 0, 1, 2, 4, 8, 16,\n",
       "                                                   32],\n",
       "                         'feature_selection__k': [3, 5, 7]})"
      ]
     },
     "execution_count": 23,
     "metadata": {},
     "output_type": "execute_result"
    }
   ],
   "source": [
    "from sklearn.preprocessing import MinMaxScaler #normalization\n",
    "from sklearn.svm import SVC #classifier\n",
    "from sklearn.model_selection import GridSearchCV \n",
    "from sklearn.pipeline import Pipeline\n",
    "\n",
    "#from imblearn.under_sampling import RandomUnderSampler #imbalanced\n",
    "\n",
    "from sklearn.feature_selection import SelectKBest\n",
    "from sklearn.feature_selection import f_classif\n",
    "\n",
    "#Imbalanced\n",
    "#undersample = RandomUnderSampler(sampling_strategy='majority') \n",
    "#X_res, y_res = undersample.fit_resample(X_train, y_train)\n",
    "\n",
    "#Pipeline\n",
    "clf = Pipeline([ \n",
    "    ('scaler',MinMaxScaler(feature_range=(0,1))), #normalization\n",
    "    ('feature_selection',SelectKBest(f_classif)), #select feature\n",
    "    ('classification',SVC(random_state=0))#classifier\n",
    "])\n",
    "\n",
    "\n",
    "#Tune GridSearchCV\n",
    "params = { \n",
    "    'feature_selection__k':[3,5,7],\n",
    "    'classification__C': [1,2,4,8,16,32],\n",
    "    'classification__gamma' :[0.0625,0.0125,0.025,0.05,0.01,0,1,2,4,8,16,32]\n",
    "}\n",
    "best_clf = GridSearchCV(clf, params, cv=10)\n",
    "\n",
    "best_clf.fit(X_train, y_train)"
   ]
  },
  {
   "cell_type": "code",
   "execution_count": 24,
   "id": "94874142",
   "metadata": {
    "execution": {
     "iopub.execute_input": "2021-09-02T07:03:12.497333Z",
     "iopub.status.busy": "2021-09-02T07:03:12.496611Z",
     "iopub.status.idle": "2021-09-02T07:03:12.503014Z",
     "shell.execute_reply": "2021-09-02T07:03:12.502423Z"
    },
    "papermill": {
     "duration": 0.056327,
     "end_time": "2021-09-02T07:03:12.503156",
     "exception": false,
     "start_time": "2021-09-02T07:03:12.446829",
     "status": "completed"
    },
    "tags": []
   },
   "outputs": [
    {
     "name": "stdout",
     "output_type": "stream",
     "text": [
      "10CV accuracy: 0.9156106558531159\n"
     ]
    }
   ],
   "source": [
    "acc = best_clf.best_score_\n",
    "print(\"10CV accuracy: \"+str(acc))"
   ]
  },
  {
   "cell_type": "code",
   "execution_count": 25,
   "id": "430446dc",
   "metadata": {
    "execution": {
     "iopub.execute_input": "2021-09-02T07:03:12.606300Z",
     "iopub.status.busy": "2021-09-02T07:03:12.605621Z",
     "iopub.status.idle": "2021-09-02T07:03:12.609507Z",
     "shell.execute_reply": "2021-09-02T07:03:12.608858Z"
    },
    "papermill": {
     "duration": 0.056332,
     "end_time": "2021-09-02T07:03:12.609649",
     "exception": false,
     "start_time": "2021-09-02T07:03:12.553317",
     "status": "completed"
    },
    "tags": []
   },
   "outputs": [
    {
     "data": {
      "text/plain": [
       "{'classification__C': 32,\n",
       " 'classification__gamma': 4,\n",
       " 'feature_selection__k': 7}"
      ]
     },
     "execution_count": 25,
     "metadata": {},
     "output_type": "execute_result"
    }
   ],
   "source": [
    "best_clf.best_params_"
   ]
  },
  {
   "cell_type": "code",
   "execution_count": 26,
   "id": "8d722f8c",
   "metadata": {
    "execution": {
     "iopub.execute_input": "2021-09-02T07:03:12.709107Z",
     "iopub.status.busy": "2021-09-02T07:03:12.708346Z",
     "iopub.status.idle": "2021-09-02T07:03:12.731450Z",
     "shell.execute_reply": "2021-09-02T07:03:12.730273Z"
    },
    "papermill": {
     "duration": 0.073634,
     "end_time": "2021-09-02T07:03:12.731720",
     "exception": false,
     "start_time": "2021-09-02T07:03:12.658086",
     "status": "completed"
    },
    "tags": []
   },
   "outputs": [
    {
     "name": "stdout",
     "output_type": "stream",
     "text": [
      "Test Training accuracy: 0.9220389805097451\n"
     ]
    }
   ],
   "source": [
    "yp = best_clf.predict(X_test)\n",
    "acc = sum(yp == y_test)/len(y_test)\n",
    "print(\"Test Training accuracy: \"+str(acc))"
   ]
  },
  {
   "cell_type": "code",
   "execution_count": 27,
   "id": "7883558b",
   "metadata": {
    "execution": {
     "iopub.execute_input": "2021-09-02T07:03:12.834954Z",
     "iopub.status.busy": "2021-09-02T07:03:12.833997Z",
     "iopub.status.idle": "2021-09-02T07:03:13.017536Z",
     "shell.execute_reply": "2021-09-02T07:03:13.018049Z"
    },
    "papermill": {
     "duration": 0.236552,
     "end_time": "2021-09-02T07:03:13.018262",
     "exception": false,
     "start_time": "2021-09-02T07:03:12.781710",
     "status": "completed"
    },
    "tags": []
   },
   "outputs": [
    {
     "data": {
      "image/png": "[encoded data removed]",
      "text/plain": [
       "<Figure size 432x288 with 2 Axes>"
      ]
     },
     "metadata": {
      "needs_background": "light"
     },
     "output_type": "display_data"
    }
   ],
   "source": [
    "from sklearn.metrics import confusion_matrix\n",
    "import matplotlib.pyplot as plt\n",
    "import seaborn as sns\n",
    "target_names = ['negative(0)', 'positive(1)']\n",
    "C = confusion_matrix(y_test,yp) \n",
    "C = C / C.astype(np.float).sum(axis=1)*100\n",
    "sns.heatmap(C, annot=True, fmt=\"f\",cmap=\"GnBu\",xticklabels=target_names, yticklabels=target_names)\n",
    "plt.ylabel(\"True Label\")\n",
    "plt.xlabel(\"Predicted Label\")\n",
    "plt.show()"
   ]
  },
  {
   "cell_type": "code",
   "execution_count": 28,
   "id": "6e44b25d",
   "metadata": {
    "execution": {
     "iopub.execute_input": "2021-09-02T07:03:13.125279Z",
     "iopub.status.busy": "2021-09-02T07:03:13.124611Z",
     "iopub.status.idle": "2021-09-02T07:03:13.135100Z",
     "shell.execute_reply": "2021-09-02T07:03:13.135645Z"
    },
    "papermill": {
     "duration": 0.066538,
     "end_time": "2021-09-02T07:03:13.135818",
     "exception": false,
     "start_time": "2021-09-02T07:03:13.069280",
     "status": "completed"
    },
    "tags": []
   },
   "outputs": [
    {
     "name": "stdout",
     "output_type": "stream",
     "text": [
      "              precision    recall  f1-score   support\n",
      "\n",
      " negative(0)       0.94      0.97      0.96       579\n",
      " positive(1)       0.74      0.62      0.68        88\n",
      "\n",
      "    accuracy                           0.92       667\n",
      "   macro avg       0.84      0.80      0.82       667\n",
      "weighted avg       0.92      0.92      0.92       667\n",
      "\n"
     ]
    }
   ],
   "source": [
    "from sklearn.metrics import classification_report\n",
    "print(classification_report(y_test,yp,target_names=target_names)) "
   ]
  },
  {
   "cell_type": "markdown",
   "id": "77802f7a",
   "metadata": {
    "papermill": {
     "duration": 0.048914,
     "end_time": "2021-09-02T07:03:13.234583",
     "exception": false,
     "start_time": "2021-09-02T07:03:13.185669",
     "status": "completed"
    },
    "tags": []
   },
   "source": [
    "____________________________________________________________________________________"
   ]
  },
  {
   "cell_type": "markdown",
   "id": "322879f6",
   "metadata": {
    "papermill": {
     "duration": 0.049412,
     "end_time": "2021-09-02T07:03:13.333606",
     "exception": false,
     "start_time": "2021-09-02T07:03:13.284194",
     "status": "completed"
    },
    "tags": []
   },
   "source": [
    "**ExtraTrees**"
   ]
  },
  {
   "cell_type": "code",
   "execution_count": 29,
   "id": "faddb520",
   "metadata": {
    "execution": {
     "iopub.execute_input": "2021-09-02T07:03:13.442144Z",
     "iopub.status.busy": "2021-09-02T07:03:13.441510Z",
     "iopub.status.idle": "2021-09-02T07:03:24.840322Z",
     "shell.execute_reply": "2021-09-02T07:03:24.839649Z"
    },
    "papermill": {
     "duration": 11.457654,
     "end_time": "2021-09-02T07:03:24.840470",
     "exception": false,
     "start_time": "2021-09-02T07:03:13.382816",
     "status": "completed"
    },
    "tags": []
   },
   "outputs": [
    {
     "data": {
      "text/plain": [
       "GridSearchCV(cv=10,\n",
       "             estimator=Pipeline(steps=[('scaler', MinMaxScaler()),\n",
       "                                       ('classification',\n",
       "                                        ExtraTreesClassifier(random_state=0))]),\n",
       "             param_grid={'classification__n_estimators': [10, 20, 50, 100,\n",
       "                                                          200]})"
      ]
     },
     "execution_count": 29,
     "metadata": {},
     "output_type": "execute_result"
    }
   ],
   "source": [
    "from sklearn.preprocessing import MinMaxScaler #normalization\n",
    "from sklearn.ensemble import ExtraTreesClassifier #classifier\n",
    "from sklearn.model_selection import GridSearchCV \n",
    "from sklearn.pipeline import Pipeline\n",
    "\n",
    "#from imblearn.under_sampling import RandomUnderSampler #imbalanced\n",
    "\n",
    "#Select feature\n",
    "#from sklearn.feature_selection import SelectKBest\n",
    "#from sklearn.feature_selection import f_classif\n",
    "\n",
    "#Imbalanced\n",
    "#undersample = RandomUnderSampler(sampling_strategy='majority') \n",
    "#X_res, y_res = undersample.fit_resample(X_train, y_train)\n",
    "\n",
    "#Pipeline\n",
    "clf = Pipeline([ \n",
    "    ('scaler',MinMaxScaler(feature_range=(0,1))), #normalization\n",
    "    #('feature_selection',SelectKBest(f_classif)), #select feature\n",
    "    ('classification',ExtraTreesClassifier(random_state=0))#classifier\n",
    "])\n",
    "\n",
    "\n",
    "#Tune GridSearchCV\n",
    "params = { \n",
    "    #'feature_selection__k':[3,5,7],\n",
    "    'classification__n_estimators': [10,20,50,100,200]\n",
    "}\n",
    "best_clf = GridSearchCV(clf, params, cv=10)\n",
    "\n",
    "best_clf.fit(X_train, y_train)"
   ]
  },
  {
   "cell_type": "code",
   "execution_count": 30,
   "id": "ca572982",
   "metadata": {
    "execution": {
     "iopub.execute_input": "2021-09-02T07:03:24.947154Z",
     "iopub.status.busy": "2021-09-02T07:03:24.946472Z",
     "iopub.status.idle": "2021-09-02T07:03:24.949812Z",
     "shell.execute_reply": "2021-09-02T07:03:24.950896Z"
    },
    "papermill": {
     "duration": 0.060165,
     "end_time": "2021-09-02T07:03:24.951160",
     "exception": false,
     "start_time": "2021-09-02T07:03:24.890995",
     "status": "completed"
    },
    "tags": []
   },
   "outputs": [
    {
     "name": "stdout",
     "output_type": "stream",
     "text": [
      "10CV accuracy: 0.9298555377207063\n"
     ]
    }
   ],
   "source": [
    "acc = best_clf.best_score_\n",
    "print(\"10CV accuracy: \"+str(acc))"
   ]
  },
  {
   "cell_type": "code",
   "execution_count": 31,
   "id": "d5d01ad3",
   "metadata": {
    "execution": {
     "iopub.execute_input": "2021-09-02T07:03:25.063682Z",
     "iopub.status.busy": "2021-09-02T07:03:25.062698Z",
     "iopub.status.idle": "2021-09-02T07:03:25.067351Z",
     "shell.execute_reply": "2021-09-02T07:03:25.066774Z"
    },
    "papermill": {
     "duration": 0.062276,
     "end_time": "2021-09-02T07:03:25.067489",
     "exception": false,
     "start_time": "2021-09-02T07:03:25.005213",
     "status": "completed"
    },
    "tags": []
   },
   "outputs": [
    {
     "data": {
      "text/plain": [
       "{'classification__n_estimators': 200}"
      ]
     },
     "execution_count": 31,
     "metadata": {},
     "output_type": "execute_result"
    }
   ],
   "source": [
    "best_clf.best_params_"
   ]
  },
  {
   "cell_type": "code",
   "execution_count": 32,
   "id": "7a5433b3",
   "metadata": {
    "execution": {
     "iopub.execute_input": "2021-09-02T07:03:25.175361Z",
     "iopub.status.busy": "2021-09-02T07:03:25.174397Z",
     "iopub.status.idle": "2021-09-02T07:03:25.231109Z",
     "shell.execute_reply": "2021-09-02T07:03:25.230387Z"
    },
    "papermill": {
     "duration": 0.110594,
     "end_time": "2021-09-02T07:03:25.231323",
     "exception": false,
     "start_time": "2021-09-02T07:03:25.120729",
     "status": "completed"
    },
    "tags": []
   },
   "outputs": [
    {
     "name": "stdout",
     "output_type": "stream",
     "text": [
      "Test Training accuracy: 0.9250374812593704\n"
     ]
    }
   ],
   "source": [
    "yp = best_clf.predict(X_test)\n",
    "acc = sum(yp == y_test)/len(y_test)\n",
    "print(\"Test Training accuracy: \"+str(acc))"
   ]
  },
  {
   "cell_type": "code",
   "execution_count": 33,
   "id": "d2d324c9",
   "metadata": {
    "execution": {
     "iopub.execute_input": "2021-09-02T07:03:25.342191Z",
     "iopub.status.busy": "2021-09-02T07:03:25.341299Z",
     "iopub.status.idle": "2021-09-02T07:03:25.518568Z",
     "shell.execute_reply": "2021-09-02T07:03:25.519071Z"
    },
    "papermill": {
     "duration": 0.236534,
     "end_time": "2021-09-02T07:03:25.519260",
     "exception": false,
     "start_time": "2021-09-02T07:03:25.282726",
     "status": "completed"
    },
    "tags": []
   },
   "outputs": [
    {
     "data": {
      "image/png": "[encoded data removed]",
      "text/plain": [
       "<Figure size 432x288 with 2 Axes>"
      ]
     },
     "metadata": {
      "needs_background": "light"
     },
     "output_type": "display_data"
    }
   ],
   "source": [
    "from sklearn.metrics import confusion_matrix\n",
    "import matplotlib.pyplot as plt\n",
    "import seaborn as sns\n",
    "target_names = ['negative(0)', 'positive(1)']\n",
    "C = confusion_matrix(y_test,yp) \n",
    "C = C / C.astype(np.float).sum(axis=1)*100\n",
    "sns.heatmap(C, annot=True, fmt=\"f\",cmap=\"GnBu\",xticklabels=target_names, yticklabels=target_names)\n",
    "plt.ylabel(\"True Label\")\n",
    "plt.xlabel(\"Predicted Label\")\n",
    "plt.show()"
   ]
  },
  {
   "cell_type": "code",
   "execution_count": 34,
   "id": "6a846529",
   "metadata": {
    "execution": {
     "iopub.execute_input": "2021-09-02T07:03:25.629428Z",
     "iopub.status.busy": "2021-09-02T07:03:25.628739Z",
     "iopub.status.idle": "2021-09-02T07:03:25.640579Z",
     "shell.execute_reply": "2021-09-02T07:03:25.641080Z"
    },
    "papermill": {
     "duration": 0.06858,
     "end_time": "2021-09-02T07:03:25.641293",
     "exception": false,
     "start_time": "2021-09-02T07:03:25.572713",
     "status": "completed"
    },
    "tags": []
   },
   "outputs": [
    {
     "name": "stdout",
     "output_type": "stream",
     "text": [
      "              precision    recall  f1-score   support\n",
      "\n",
      " negative(0)       0.95      0.97      0.96       579\n",
      " positive(1)       0.75      0.65      0.70        88\n",
      "\n",
      "    accuracy                           0.93       667\n",
      "   macro avg       0.85      0.81      0.83       667\n",
      "weighted avg       0.92      0.93      0.92       667\n",
      "\n"
     ]
    }
   ],
   "source": [
    "from sklearn.metrics import classification_report\n",
    "print(classification_report(y_test,yp,target_names=target_names)) "
   ]
  },
  {
   "cell_type": "code",
   "execution_count": 35,
   "id": "891ae7eb",
   "metadata": {
    "execution": {
     "iopub.execute_input": "2021-09-02T07:03:25.753584Z",
     "iopub.status.busy": "2021-09-02T07:03:25.752919Z",
     "iopub.status.idle": "2021-09-02T07:03:25.777670Z",
     "shell.execute_reply": "2021-09-02T07:03:25.778162Z"
    },
    "papermill": {
     "duration": 0.08423,
     "end_time": "2021-09-02T07:03:25.778359",
     "exception": false,
     "start_time": "2021-09-02T07:03:25.694129",
     "status": "completed"
    },
    "tags": []
   },
   "outputs": [
    {
     "data": {
      "text/plain": [
       "array([0.07042887, 0.07255904, 0.02574699, 0.05180713, 0.15808602,\n",
       "       0.17833695, 0.07211594, 0.19021937, 0.09295035, 0.08774935])"
      ]
     },
     "execution_count": 35,
     "metadata": {},
     "output_type": "execute_result"
    }
   ],
   "source": [
    "best_clf.best_estimator_.steps[1][1].feature_importances_"
   ]
  },
  {
   "cell_type": "markdown",
   "id": "edcc5fa8",
   "metadata": {
    "papermill": {
     "duration": 0.054366,
     "end_time": "2021-09-02T07:03:25.886668",
     "exception": false,
     "start_time": "2021-09-02T07:03:25.832302",
     "status": "completed"
    },
    "tags": []
   },
   "source": [
    "___________________________________________________________________________________"
   ]
  },
  {
   "cell_type": "markdown",
   "id": "860c35e4",
   "metadata": {
    "papermill": {
     "duration": 0.053395,
     "end_time": "2021-09-02T07:03:25.994347",
     "exception": false,
     "start_time": "2021-09-02T07:03:25.940952",
     "status": "completed"
    },
    "tags": []
   },
   "source": [
    "# **ASSIGNMENT**"
   ]
  },
  {
   "cell_type": "markdown",
   "id": "aa74cfb5",
   "metadata": {
    "papermill": {
     "duration": 0.05424,
     "end_time": "2021-09-02T07:03:26.102552",
     "exception": false,
     "start_time": "2021-09-02T07:03:26.048312",
     "status": "completed"
    },
    "tags": []
   },
   "source": [
    "**Training**"
   ]
  },
  {
   "cell_type": "code",
   "execution_count": 36,
   "id": "810cde2f",
   "metadata": {
    "execution": {
     "iopub.execute_input": "2021-09-02T07:03:26.212144Z",
     "iopub.status.busy": "2021-09-02T07:03:26.211514Z",
     "iopub.status.idle": "2021-09-02T08:19:10.645481Z",
     "shell.execute_reply": "2021-09-02T08:19:10.645980Z"
    },
    "papermill": {
     "duration": 4544.490307,
     "end_time": "2021-09-02T08:19:10.646165",
     "exception": false,
     "start_time": "2021-09-02T07:03:26.155858",
     "status": "completed"
    },
    "tags": []
   },
   "outputs": [
    {
     "data": {
      "text/plain": [
       "GridSearchCV(cv=10,\n",
       "             estimator=Pipeline(steps=[('scaler', MinMaxScaler()),\n",
       "                                       ('feature_selection', SelectKBest()),\n",
       "                                       ('classification',\n",
       "                                        RandomForestClassifier(random_state=0))]),\n",
       "             param_grid={'classification__max_depth': [1, 2, 3, 4, 5, 6, 7, 8,\n",
       "                                                       8, 9, 10, 11, 12, 13, 14,\n",
       "                                                       15, 16, 17, 18, 19, 20],\n",
       "                         'classification__n_estimators': [10, 100, 1000],\n",
       "                         'feature_selection__k': [3, 5, 7, 10]})"
      ]
     },
     "execution_count": 36,
     "metadata": {},
     "output_type": "execute_result"
    }
   ],
   "source": [
    "from imblearn.over_sampling import SMOTE #imbalanced\n",
    "from sklearn.pipeline import Pipeline\n",
    "from sklearn.preprocessing import MinMaxScaler #normalization\n",
    "from sklearn.feature_selection import SelectKBest #select feature\n",
    "from sklearn.feature_selection import f_classif #select feature\n",
    "from sklearn.ensemble import RandomForestClassifier #classifier\n",
    "from sklearn.model_selection import GridSearchCV \n",
    "\n",
    "#Imbalanced\n",
    "sm = SMOTE(random_state=1)\n",
    "X_res, y_res = sm.fit_resample(X_train, y_train)\n",
    "\n",
    "#Pipeline\n",
    "clf = Pipeline([ \n",
    "    ('scaler',MinMaxScaler(feature_range=(0,1))), #normalization\n",
    "    ('feature_selection',SelectKBest(f_classif)), #select feature\n",
    "    ('classification',RandomForestClassifier(random_state=0)) #classifier \n",
    "])\n",
    "\n",
    "#Tune GridSearchCV\n",
    "params = { \n",
    "    'feature_selection__k':[3,5,7,10],\n",
    "    'classification__n_estimators': [10,100,1000],\n",
    "    'classification__max_depth' : [1,2,3,4,5,6,7,8,8,9,10,11,12,13,14,15,16,17,18,19,20]\n",
    "}\n",
    "best_clf = GridSearchCV(clf, params, cv=10)\n",
    "\n",
    "best_clf.fit(X_res, y_res)"
   ]
  },
  {
   "cell_type": "code",
   "execution_count": 37,
   "id": "f12b7f15",
   "metadata": {
    "execution": {
     "iopub.execute_input": "2021-09-02T08:19:10.757556Z",
     "iopub.status.busy": "2021-09-02T08:19:10.756878Z",
     "iopub.status.idle": "2021-09-02T08:19:10.762099Z",
     "shell.execute_reply": "2021-09-02T08:19:10.762749Z"
    },
    "papermill": {
     "duration": 0.062368,
     "end_time": "2021-09-02T08:19:10.762925",
     "exception": false,
     "start_time": "2021-09-02T08:19:10.700557",
     "status": "completed"
    },
    "tags": []
   },
   "outputs": [
    {
     "data": {
      "text/plain": [
       "{'classification__max_depth': 18,\n",
       " 'classification__n_estimators': 1000,\n",
       " 'feature_selection__k': 10}"
      ]
     },
     "execution_count": 37,
     "metadata": {},
     "output_type": "execute_result"
    }
   ],
   "source": [
    "best_clf.best_params_"
   ]
  },
  {
   "cell_type": "code",
   "execution_count": 38,
   "id": "e686b01e",
   "metadata": {
    "execution": {
     "iopub.execute_input": "2021-09-02T08:19:10.878069Z",
     "iopub.status.busy": "2021-09-02T08:19:10.877190Z",
     "iopub.status.idle": "2021-09-02T08:19:10.884086Z",
     "shell.execute_reply": "2021-09-02T08:19:10.883369Z"
    },
    "papermill": {
     "duration": 0.065957,
     "end_time": "2021-09-02T08:19:10.884300",
     "exception": false,
     "start_time": "2021-09-02T08:19:10.818343",
     "status": "completed"
    },
    "tags": []
   },
   "outputs": [
    {
     "name": "stdout",
     "output_type": "stream",
     "text": [
      "10CV accuracy: 0.9454185022026431\n"
     ]
    }
   ],
   "source": [
    "acc = best_clf.best_score_\n",
    "print(\"10CV accuracy: \"+str(acc))"
   ]
  },
  {
   "cell_type": "markdown",
   "id": "121821e5",
   "metadata": {
    "papermill": {
     "duration": 0.055563,
     "end_time": "2021-09-02T08:19:10.998497",
     "exception": false,
     "start_time": "2021-09-02T08:19:10.942934",
     "status": "completed"
    },
    "tags": []
   },
   "source": [
    "**Testing**"
   ]
  },
  {
   "cell_type": "code",
   "execution_count": 39,
   "id": "8a5de93c",
   "metadata": {
    "execution": {
     "iopub.execute_input": "2021-09-02T08:19:11.116610Z",
     "iopub.status.busy": "2021-09-02T08:19:11.115898Z",
     "iopub.status.idle": "2021-09-02T08:19:11.320557Z",
     "shell.execute_reply": "2021-09-02T08:19:11.321275Z"
    },
    "papermill": {
     "duration": 0.267971,
     "end_time": "2021-09-02T08:19:11.321511",
     "exception": false,
     "start_time": "2021-09-02T08:19:11.053540",
     "status": "completed"
    },
    "tags": []
   },
   "outputs": [
    {
     "name": "stdout",
     "output_type": "stream",
     "text": [
      "Test Training accuracy: 0.9205397301349325\n"
     ]
    }
   ],
   "source": [
    "yp = best_clf.predict(X_test)\n",
    "acc = sum(yp == y_test)/len(y_test)\n",
    "print(\"Test Training accuracy: \"+str(acc))"
   ]
  },
  {
   "cell_type": "code",
   "execution_count": 40,
   "id": "dff662e1",
   "metadata": {
    "execution": {
     "iopub.execute_input": "2021-09-02T08:19:11.440860Z",
     "iopub.status.busy": "2021-09-02T08:19:11.439551Z",
     "iopub.status.idle": "2021-09-02T08:19:11.620910Z",
     "shell.execute_reply": "2021-09-02T08:19:11.620377Z"
    },
    "papermill": {
     "duration": 0.24376,
     "end_time": "2021-09-02T08:19:11.621053",
     "exception": false,
     "start_time": "2021-09-02T08:19:11.377293",
     "status": "completed"
    },
    "tags": []
   },
   "outputs": [
    {
     "data": {
      "image/png": "[encoded data removed]",
      "text/plain": [
       "<Figure size 432x288 with 2 Axes>"
      ]
     },
     "metadata": {
      "needs_background": "light"
     },
     "output_type": "display_data"
    }
   ],
   "source": [
    "from sklearn.metrics import confusion_matrix\n",
    "import matplotlib.pyplot as plt\n",
    "import seaborn as sns\n",
    "target_names = ['negative(0)', 'positive(1)']\n",
    "C = confusion_matrix(y_test,yp) \n",
    "C = C / C.astype(np.float).sum(axis=1)*100\n",
    "sns.heatmap(C, annot=True, fmt=\"f\",cmap=\"GnBu\",xticklabels=target_names, yticklabels=target_names)\n",
    "plt.ylabel(\"True Label\")\n",
    "plt.xlabel(\"Predicted Label\")\n",
    "plt.show()"
   ]
  },
  {
   "cell_type": "code",
   "execution_count": 41,
   "id": "e0570a48",
   "metadata": {
    "execution": {
     "iopub.execute_input": "2021-09-02T08:19:11.741435Z",
     "iopub.status.busy": "2021-09-02T08:19:11.740381Z",
     "iopub.status.idle": "2021-09-02T08:19:11.749858Z",
     "shell.execute_reply": "2021-09-02T08:19:11.750347Z"
    },
    "papermill": {
     "duration": 0.071528,
     "end_time": "2021-09-02T08:19:11.750521",
     "exception": false,
     "start_time": "2021-09-02T08:19:11.678993",
     "status": "completed"
    },
    "tags": []
   },
   "outputs": [
    {
     "name": "stdout",
     "output_type": "stream",
     "text": [
      "              precision    recall  f1-score   support\n",
      "\n",
      " negative(0)       0.96      0.94      0.95       579\n",
      " positive(1)       0.68      0.76      0.72        88\n",
      "\n",
      "    accuracy                           0.92       667\n",
      "   macro avg       0.82      0.85      0.84       667\n",
      "weighted avg       0.93      0.92      0.92       667\n",
      "\n"
     ]
    }
   ],
   "source": [
    "from sklearn.metrics import classification_report\n",
    "print(classification_report(y_test,yp,target_names=target_names)) "
   ]
  },
  {
   "cell_type": "markdown",
   "id": "54b91951",
   "metadata": {
    "papermill": {
     "duration": 0.057415,
     "end_time": "2021-09-02T08:19:11.866383",
     "exception": false,
     "start_time": "2021-09-02T08:19:11.808968",
     "status": "completed"
    },
    "tags": []
   },
   "source": [
    "**Feature Selected**"
   ]
  },
  {
   "cell_type": "code",
   "execution_count": 42,
   "id": "5aa81f9a",
   "metadata": {
    "execution": {
     "iopub.execute_input": "2021-09-02T08:19:11.989128Z",
     "iopub.status.busy": "2021-09-02T08:19:11.988089Z",
     "iopub.status.idle": "2021-09-02T08:19:12.076986Z",
     "shell.execute_reply": "2021-09-02T08:19:12.076327Z"
    },
    "papermill": {
     "duration": 0.152257,
     "end_time": "2021-09-02T08:19:12.077137",
     "exception": false,
     "start_time": "2021-09-02T08:19:11.924880",
     "status": "completed"
    },
    "tags": []
   },
   "outputs": [],
   "source": [
    "f = best_clf.best_estimator_.steps[-1][1].feature_importances_"
   ]
  },
  {
   "cell_type": "code",
   "execution_count": 43,
   "id": "c5634104",
   "metadata": {
    "execution": {
     "iopub.execute_input": "2021-09-02T08:19:12.199637Z",
     "iopub.status.busy": "2021-09-02T08:19:12.198876Z",
     "iopub.status.idle": "2021-09-02T08:19:12.203391Z",
     "shell.execute_reply": "2021-09-02T08:19:12.202751Z"
    },
    "papermill": {
     "duration": 0.067817,
     "end_time": "2021-09-02T08:19:12.203531",
     "exception": false,
     "start_time": "2021-09-02T08:19:12.135714",
     "status": "completed"
    },
    "tags": []
   },
   "outputs": [
    {
     "data": {
      "text/plain": [
       "array([4, 1, 5, 7, 8, 3, 2, 9, 0, 6])"
      ]
     },
     "execution_count": 43,
     "metadata": {},
     "output_type": "execute_result"
    }
   ],
   "source": [
    "f_idx = np.argsort(-f)\n",
    "f_idx"
   ]
  },
  {
   "cell_type": "code",
   "execution_count": 44,
   "id": "c727d47a",
   "metadata": {
    "execution": {
     "iopub.execute_input": "2021-09-02T08:19:12.323940Z",
     "iopub.status.busy": "2021-09-02T08:19:12.323314Z",
     "iopub.status.idle": "2021-09-02T08:19:12.327159Z",
     "shell.execute_reply": "2021-09-02T08:19:12.327627Z"
    },
    "papermill": {
     "duration": 0.066336,
     "end_time": "2021-09-02T08:19:12.327795",
     "exception": false,
     "start_time": "2021-09-02T08:19:12.261459",
     "status": "completed"
    },
    "tags": []
   },
   "outputs": [
    {
     "data": {
      "text/plain": [
       "array(['DataUsage', 'AccountWeeks', 'CustServCalls', 'DayCalls',\n",
       "       'MonthlyCharge', 'DataPlan', 'ContractRenewal', 'OverageFee',\n",
       "       'Churn', 'DayMins'], dtype=object)"
      ]
     },
     "execution_count": 44,
     "metadata": {},
     "output_type": "execute_result"
    }
   ],
   "source": [
    "df.columns.values[f_idx]"
   ]
  }
 ],
 "metadata": {
  "kernelspec": {
   "display_name": "Python 3",
   "language": "python",
   "name": "python3"
  },
  "language_info": {
   "codemirror_mode": {
    "name": "ipython",
    "version": 3
   },
   "file_extension": ".py",
   "mimetype": "text/x-python",
   "name": "python",
   "nbconvert_exporter": "python",
   "pygments_lexer": "ipython3",
   "version": "3.7.10"
  },
  "papermill": {
   "default_parameters": {},
   "duration": 4815.16341,
   "end_time": "2021-09-02T08:19:13.200108",
   "environment_variables": {},
   "exception": null,
   "input_path": "__notebook__.ipynb",
   "output_path": "__notebook__.ipynb",
   "parameters": {},
   "start_time": "2021-09-02T06:58:58.036698",
   "version": "2.3.3"
  }
 },
 "nbformat": 4,
 "nbformat_minor": 5
}
